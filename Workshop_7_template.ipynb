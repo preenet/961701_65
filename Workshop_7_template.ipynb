{
  "nbformat": 4,
  "nbformat_minor": 0,
  "metadata": {
    "colab": {
      "provenance": [],
      "authorship_tag": "ABX9TyPp/swrypH94/C7/8sMbPuH",
      "include_colab_link": true
    },
    "kernelspec": {
      "name": "python3",
      "display_name": "Python 3"
    },
    "language_info": {
      "name": "python"
    }
  },
  "cells": [
    {
      "cell_type": "markdown",
      "metadata": {
        "id": "view-in-github",
        "colab_type": "text"
      },
      "source": [
        "<a href=\"https://colab.research.google.com/github/preenet/961701_65/blob/main/Workshop_7_template.ipynb\" target=\"_parent\"><img src=\"https://colab.research.google.com/assets/colab-badge.svg\" alt=\"Open In Colab\"/></a>"
      ]
    },
    {
      "cell_type": "code",
      "execution_count": null,
      "metadata": {
        "id": "PiarggHtsiF_"
      },
      "outputs": [],
      "source": [
        "# bind the google drive here"
      ]
    },
    {
      "cell_type": "code",
      "source": [
        "# import libraries that will be use"
      ],
      "metadata": {
        "id": "FxDZzpWOsrvP"
      },
      "execution_count": null,
      "outputs": []
    },
    {
      "cell_type": "code",
      "source": [
        "# check shape of the data and description"
      ],
      "metadata": {
        "id": "EgXsLJx5sx9K"
      },
      "execution_count": null,
      "outputs": []
    },
    {
      "cell_type": "code",
      "source": [
        "# check for miss value and outlier"
      ],
      "metadata": {
        "id": "4StMQmols2T6"
      },
      "execution_count": null,
      "outputs": []
    },
    {
      "cell_type": "code",
      "source": [
        "# perform basic EDA using plots"
      ],
      "metadata": {
        "id": "GZADO_yZs5aP"
      },
      "execution_count": null,
      "outputs": []
    },
    {
      "cell_type": "code",
      "source": [
        "# do we need to tranform any feature (age?)"
      ],
      "metadata": {
        "id": "Dzab77_UtIyi"
      },
      "execution_count": null,
      "outputs": []
    },
    {
      "cell_type": "code",
      "source": [
        "# scaling the feature, so that we can fit to the ml algo."
      ],
      "metadata": {
        "id": "GEaZmVNItNCK"
      },
      "execution_count": null,
      "outputs": []
    },
    {
      "cell_type": "code",
      "source": [
        "# model using k-mean, we don't need to split data"
      ],
      "metadata": {
        "id": "5Q9Aczf9tSof"
      },
      "execution_count": null,
      "outputs": []
    },
    {
      "cell_type": "code",
      "source": [
        "# find the optimal number of cluster using eblow"
      ],
      "metadata": {
        "id": "BbhLtUQatY_b"
      },
      "execution_count": null,
      "outputs": []
    }
  ]
}