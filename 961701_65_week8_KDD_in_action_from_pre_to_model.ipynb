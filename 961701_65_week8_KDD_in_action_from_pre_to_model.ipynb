{
  "nbformat": 4,
  "nbformat_minor": 0,
  "metadata": {
    "colab": {
      "name": "961701_65_week8_KDD_in_action_from_pre-to-model.ipynb",
      "provenance": [],
      "authorship_tag": "ABX9TyMt96JO1r7ecJfQ/xAHDBgb",
      "include_colab_link": true
    },
    "kernelspec": {
      "name": "python3",
      "display_name": "Python 3"
    },
    "language_info": {
      "name": "python"
    }
  },
  "cells": [
    {
      "cell_type": "markdown",
      "metadata": {
        "id": "view-in-github",
        "colab_type": "text"
      },
      "source": [
        "<a href=\"https://colab.research.google.com/github/preenet/961701_65/blob/main/961701_65_week8_KDD_in_action_from_pre_to_model.ipynb\" target=\"_parent\"><img src=\"https://colab.research.google.com/assets/colab-badge.svg\" alt=\"Open In Colab\"/></a>"
      ]
    },
    {
      "cell_type": "code",
      "execution_count": 1,
      "metadata": {
        "id": "BBwH6McYgJsq"
      },
      "outputs": [],
      "source": [
        "# KDD in action demonstrate to students 961701\n",
        "# pree.t@cmu.ac.th\n",
        "# In this notebook, I break down each step to analyze tabular data in detail.\n",
        "# You can improve performance of the model, by carefully apply techniques that you have learned in the class.(this is just the rough one.)"
      ]
    },
    {
      "cell_type": "code",
      "source": [
        "# we also import nessesary libs \n",
        "import pandas as pd # for data manu.\n",
        "import numpy as np \n",
        "import matplotlib.pyplot as plt\n",
        "from sklearn.preprocessing import OneHotEncoder\n",
        "from sklearn.model_selection import train_test_split"
      ],
      "metadata": {
        "id": "oMLJqMTEoMPq"
      },
      "execution_count": 2,
      "outputs": []
    },
    {
      "cell_type": "code",
      "source": [
        "# mount the google drive\n",
        "from google.colab import drive\n",
        "drive.mount('/content/drive/')"
      ],
      "metadata": {
        "colab": {
          "base_uri": "https://localhost:8080/"
        },
        "id": "SoGGw6_ToLgC",
        "outputId": "32808f7b-a641-4a62-f10e-479e798d0280"
      },
      "execution_count": 3,
      "outputs": [
        {
          "output_type": "stream",
          "name": "stdout",
          "text": [
            "Drive already mounted at /content/drive/; to attempt to forcibly remount, call drive.mount(\"/content/drive/\", force_remount=True).\n"
          ]
        }
      ]
    },
    {
      "cell_type": "code",
      "source": [
        "# change directory where you uploaded the dataset.\n",
        "%cd /content/drive/My Drive/Colab Notebooks/"
      ],
      "metadata": {
        "colab": {
          "base_uri": "https://localhost:8080/"
        },
        "id": "aLs48RDK8dzS",
        "outputId": "fe202599-a9e4-4e7c-d4fa-0fc574cdb993"
      },
      "execution_count": 4,
      "outputs": [
        {
          "output_type": "stream",
          "name": "stdout",
          "text": [
            "/content/drive/My Drive/Colab Notebooks\n"
          ]
        }
      ]
    },
    {
      "cell_type": "code",
      "source": [
        "# read the dataset using pandas\n",
        "df = pd.read_csv('week3_2.csv')"
      ],
      "metadata": {
        "id": "-suo78vo8Ee0"
      },
      "execution_count": 5,
      "outputs": []
    },
    {
      "cell_type": "markdown",
      "source": [
        "# Data Understanding (EDA) + selection"
      ],
      "metadata": {
        "id": "zSZAZCFX7k1s"
      }
    },
    {
      "cell_type": "code",
      "source": [
        "# I usually peak the top rows to see headers and try to understand what are they (e.g., X, y)\n",
        "df.head(10)"
      ],
      "metadata": {
        "colab": {
          "base_uri": "https://localhost:8080/",
          "height": 363
        },
        "id": "YcmhuF8s9O6H",
        "outputId": "5a2260c6-2c47-4f70-c775-c92fb0a2fc12"
      },
      "execution_count": 6,
      "outputs": [
        {
          "output_type": "execute_result",
          "data": {
            "text/plain": [
              "   sl_no gender  ssc_p    ssc_b  hsc_p    hsc_b     hsc_s  degree_p  \\\n",
              "0      1      M  67.00   Others  91.00   Others  Commerce     58.00   \n",
              "1      2      M  79.33  Central  78.33   Others   Science     77.48   \n",
              "2      3      M  65.00  Central  68.00  Central      Arts     64.00   \n",
              "3      4      M  56.00  Central  52.00  Central   Science     52.00   \n",
              "4      5      M  85.80  Central  73.60  Central  Commerce     73.30   \n",
              "5      6      M  55.00   Others  49.80   Others   Science     67.25   \n",
              "6      7      F  46.00   Others  49.20   Others  Commerce     79.00   \n",
              "7      8      M  82.00  Central  64.00  Central   Science     66.00   \n",
              "8      9      M  73.00  Central  79.00  Central  Commerce     72.00   \n",
              "9     10      M  58.00  Central  70.00  Central  Commerce     61.00   \n",
              "\n",
              "    degree_t workex  etest_p specialisation  mba_p      status    salary  \n",
              "0   Sci&Tech     No    55.00         Mkt&HR  58.80      Placed  270000.0  \n",
              "1   Sci&Tech    Yes    86.50        Mkt&Fin  66.28      Placed  200000.0  \n",
              "2  Comm&Mgmt     No    75.00        Mkt&Fin  57.80      Placed  250000.0  \n",
              "3   Sci&Tech     No    66.00         Mkt&HR  59.43  Not Placed       NaN  \n",
              "4  Comm&Mgmt     No    96.80        Mkt&Fin  55.50      Placed  425000.0  \n",
              "5   Sci&Tech    Yes    55.00        Mkt&Fin  51.58  Not Placed       NaN  \n",
              "6  Comm&Mgmt     No    74.28        Mkt&Fin  53.29  Not Placed       NaN  \n",
              "7   Sci&Tech    Yes    67.00        Mkt&Fin  62.14      Placed  252000.0  \n",
              "8  Comm&Mgmt     No    91.34        Mkt&Fin  61.29      Placed  231000.0  \n",
              "9  Comm&Mgmt     No    54.00        Mkt&Fin  52.21  Not Placed       NaN  "
            ],
            "text/html": [
              "\n",
              "  <div id=\"df-3cead994-c929-4baf-8905-f4fea21b1e88\">\n",
              "    <div class=\"colab-df-container\">\n",
              "      <div>\n",
              "<style scoped>\n",
              "    .dataframe tbody tr th:only-of-type {\n",
              "        vertical-align: middle;\n",
              "    }\n",
              "\n",
              "    .dataframe tbody tr th {\n",
              "        vertical-align: top;\n",
              "    }\n",
              "\n",
              "    .dataframe thead th {\n",
              "        text-align: right;\n",
              "    }\n",
              "</style>\n",
              "<table border=\"1\" class=\"dataframe\">\n",
              "  <thead>\n",
              "    <tr style=\"text-align: right;\">\n",
              "      <th></th>\n",
              "      <th>sl_no</th>\n",
              "      <th>gender</th>\n",
              "      <th>ssc_p</th>\n",
              "      <th>ssc_b</th>\n",
              "      <th>hsc_p</th>\n",
              "      <th>hsc_b</th>\n",
              "      <th>hsc_s</th>\n",
              "      <th>degree_p</th>\n",
              "      <th>degree_t</th>\n",
              "      <th>workex</th>\n",
              "      <th>etest_p</th>\n",
              "      <th>specialisation</th>\n",
              "      <th>mba_p</th>\n",
              "      <th>status</th>\n",
              "      <th>salary</th>\n",
              "    </tr>\n",
              "  </thead>\n",
              "  <tbody>\n",
              "    <tr>\n",
              "      <th>0</th>\n",
              "      <td>1</td>\n",
              "      <td>M</td>\n",
              "      <td>67.00</td>\n",
              "      <td>Others</td>\n",
              "      <td>91.00</td>\n",
              "      <td>Others</td>\n",
              "      <td>Commerce</td>\n",
              "      <td>58.00</td>\n",
              "      <td>Sci&amp;Tech</td>\n",
              "      <td>No</td>\n",
              "      <td>55.00</td>\n",
              "      <td>Mkt&amp;HR</td>\n",
              "      <td>58.80</td>\n",
              "      <td>Placed</td>\n",
              "      <td>270000.0</td>\n",
              "    </tr>\n",
              "    <tr>\n",
              "      <th>1</th>\n",
              "      <td>2</td>\n",
              "      <td>M</td>\n",
              "      <td>79.33</td>\n",
              "      <td>Central</td>\n",
              "      <td>78.33</td>\n",
              "      <td>Others</td>\n",
              "      <td>Science</td>\n",
              "      <td>77.48</td>\n",
              "      <td>Sci&amp;Tech</td>\n",
              "      <td>Yes</td>\n",
              "      <td>86.50</td>\n",
              "      <td>Mkt&amp;Fin</td>\n",
              "      <td>66.28</td>\n",
              "      <td>Placed</td>\n",
              "      <td>200000.0</td>\n",
              "    </tr>\n",
              "    <tr>\n",
              "      <th>2</th>\n",
              "      <td>3</td>\n",
              "      <td>M</td>\n",
              "      <td>65.00</td>\n",
              "      <td>Central</td>\n",
              "      <td>68.00</td>\n",
              "      <td>Central</td>\n",
              "      <td>Arts</td>\n",
              "      <td>64.00</td>\n",
              "      <td>Comm&amp;Mgmt</td>\n",
              "      <td>No</td>\n",
              "      <td>75.00</td>\n",
              "      <td>Mkt&amp;Fin</td>\n",
              "      <td>57.80</td>\n",
              "      <td>Placed</td>\n",
              "      <td>250000.0</td>\n",
              "    </tr>\n",
              "    <tr>\n",
              "      <th>3</th>\n",
              "      <td>4</td>\n",
              "      <td>M</td>\n",
              "      <td>56.00</td>\n",
              "      <td>Central</td>\n",
              "      <td>52.00</td>\n",
              "      <td>Central</td>\n",
              "      <td>Science</td>\n",
              "      <td>52.00</td>\n",
              "      <td>Sci&amp;Tech</td>\n",
              "      <td>No</td>\n",
              "      <td>66.00</td>\n",
              "      <td>Mkt&amp;HR</td>\n",
              "      <td>59.43</td>\n",
              "      <td>Not Placed</td>\n",
              "      <td>NaN</td>\n",
              "    </tr>\n",
              "    <tr>\n",
              "      <th>4</th>\n",
              "      <td>5</td>\n",
              "      <td>M</td>\n",
              "      <td>85.80</td>\n",
              "      <td>Central</td>\n",
              "      <td>73.60</td>\n",
              "      <td>Central</td>\n",
              "      <td>Commerce</td>\n",
              "      <td>73.30</td>\n",
              "      <td>Comm&amp;Mgmt</td>\n",
              "      <td>No</td>\n",
              "      <td>96.80</td>\n",
              "      <td>Mkt&amp;Fin</td>\n",
              "      <td>55.50</td>\n",
              "      <td>Placed</td>\n",
              "      <td>425000.0</td>\n",
              "    </tr>\n",
              "    <tr>\n",
              "      <th>5</th>\n",
              "      <td>6</td>\n",
              "      <td>M</td>\n",
              "      <td>55.00</td>\n",
              "      <td>Others</td>\n",
              "      <td>49.80</td>\n",
              "      <td>Others</td>\n",
              "      <td>Science</td>\n",
              "      <td>67.25</td>\n",
              "      <td>Sci&amp;Tech</td>\n",
              "      <td>Yes</td>\n",
              "      <td>55.00</td>\n",
              "      <td>Mkt&amp;Fin</td>\n",
              "      <td>51.58</td>\n",
              "      <td>Not Placed</td>\n",
              "      <td>NaN</td>\n",
              "    </tr>\n",
              "    <tr>\n",
              "      <th>6</th>\n",
              "      <td>7</td>\n",
              "      <td>F</td>\n",
              "      <td>46.00</td>\n",
              "      <td>Others</td>\n",
              "      <td>49.20</td>\n",
              "      <td>Others</td>\n",
              "      <td>Commerce</td>\n",
              "      <td>79.00</td>\n",
              "      <td>Comm&amp;Mgmt</td>\n",
              "      <td>No</td>\n",
              "      <td>74.28</td>\n",
              "      <td>Mkt&amp;Fin</td>\n",
              "      <td>53.29</td>\n",
              "      <td>Not Placed</td>\n",
              "      <td>NaN</td>\n",
              "    </tr>\n",
              "    <tr>\n",
              "      <th>7</th>\n",
              "      <td>8</td>\n",
              "      <td>M</td>\n",
              "      <td>82.00</td>\n",
              "      <td>Central</td>\n",
              "      <td>64.00</td>\n",
              "      <td>Central</td>\n",
              "      <td>Science</td>\n",
              "      <td>66.00</td>\n",
              "      <td>Sci&amp;Tech</td>\n",
              "      <td>Yes</td>\n",
              "      <td>67.00</td>\n",
              "      <td>Mkt&amp;Fin</td>\n",
              "      <td>62.14</td>\n",
              "      <td>Placed</td>\n",
              "      <td>252000.0</td>\n",
              "    </tr>\n",
              "    <tr>\n",
              "      <th>8</th>\n",
              "      <td>9</td>\n",
              "      <td>M</td>\n",
              "      <td>73.00</td>\n",
              "      <td>Central</td>\n",
              "      <td>79.00</td>\n",
              "      <td>Central</td>\n",
              "      <td>Commerce</td>\n",
              "      <td>72.00</td>\n",
              "      <td>Comm&amp;Mgmt</td>\n",
              "      <td>No</td>\n",
              "      <td>91.34</td>\n",
              "      <td>Mkt&amp;Fin</td>\n",
              "      <td>61.29</td>\n",
              "      <td>Placed</td>\n",
              "      <td>231000.0</td>\n",
              "    </tr>\n",
              "    <tr>\n",
              "      <th>9</th>\n",
              "      <td>10</td>\n",
              "      <td>M</td>\n",
              "      <td>58.00</td>\n",
              "      <td>Central</td>\n",
              "      <td>70.00</td>\n",
              "      <td>Central</td>\n",
              "      <td>Commerce</td>\n",
              "      <td>61.00</td>\n",
              "      <td>Comm&amp;Mgmt</td>\n",
              "      <td>No</td>\n",
              "      <td>54.00</td>\n",
              "      <td>Mkt&amp;Fin</td>\n",
              "      <td>52.21</td>\n",
              "      <td>Not Placed</td>\n",
              "      <td>NaN</td>\n",
              "    </tr>\n",
              "  </tbody>\n",
              "</table>\n",
              "</div>\n",
              "      <button class=\"colab-df-convert\" onclick=\"convertToInteractive('df-3cead994-c929-4baf-8905-f4fea21b1e88')\"\n",
              "              title=\"Convert this dataframe to an interactive table.\"\n",
              "              style=\"display:none;\">\n",
              "        \n",
              "  <svg xmlns=\"http://www.w3.org/2000/svg\" height=\"24px\"viewBox=\"0 0 24 24\"\n",
              "       width=\"24px\">\n",
              "    <path d=\"M0 0h24v24H0V0z\" fill=\"none\"/>\n",
              "    <path d=\"M18.56 5.44l.94 2.06.94-2.06 2.06-.94-2.06-.94-.94-2.06-.94 2.06-2.06.94zm-11 1L8.5 8.5l.94-2.06 2.06-.94-2.06-.94L8.5 2.5l-.94 2.06-2.06.94zm10 10l.94 2.06.94-2.06 2.06-.94-2.06-.94-.94-2.06-.94 2.06-2.06.94z\"/><path d=\"M17.41 7.96l-1.37-1.37c-.4-.4-.92-.59-1.43-.59-.52 0-1.04.2-1.43.59L10.3 9.45l-7.72 7.72c-.78.78-.78 2.05 0 2.83L4 21.41c.39.39.9.59 1.41.59.51 0 1.02-.2 1.41-.59l7.78-7.78 2.81-2.81c.8-.78.8-2.07 0-2.86zM5.41 20L4 18.59l7.72-7.72 1.47 1.35L5.41 20z\"/>\n",
              "  </svg>\n",
              "      </button>\n",
              "      \n",
              "  <style>\n",
              "    .colab-df-container {\n",
              "      display:flex;\n",
              "      flex-wrap:wrap;\n",
              "      gap: 12px;\n",
              "    }\n",
              "\n",
              "    .colab-df-convert {\n",
              "      background-color: #E8F0FE;\n",
              "      border: none;\n",
              "      border-radius: 50%;\n",
              "      cursor: pointer;\n",
              "      display: none;\n",
              "      fill: #1967D2;\n",
              "      height: 32px;\n",
              "      padding: 0 0 0 0;\n",
              "      width: 32px;\n",
              "    }\n",
              "\n",
              "    .colab-df-convert:hover {\n",
              "      background-color: #E2EBFA;\n",
              "      box-shadow: 0px 1px 2px rgba(60, 64, 67, 0.3), 0px 1px 3px 1px rgba(60, 64, 67, 0.15);\n",
              "      fill: #174EA6;\n",
              "    }\n",
              "\n",
              "    [theme=dark] .colab-df-convert {\n",
              "      background-color: #3B4455;\n",
              "      fill: #D2E3FC;\n",
              "    }\n",
              "\n",
              "    [theme=dark] .colab-df-convert:hover {\n",
              "      background-color: #434B5C;\n",
              "      box-shadow: 0px 1px 3px 1px rgba(0, 0, 0, 0.15);\n",
              "      filter: drop-shadow(0px 1px 2px rgba(0, 0, 0, 0.3));\n",
              "      fill: #FFFFFF;\n",
              "    }\n",
              "  </style>\n",
              "\n",
              "      <script>\n",
              "        const buttonEl =\n",
              "          document.querySelector('#df-3cead994-c929-4baf-8905-f4fea21b1e88 button.colab-df-convert');\n",
              "        buttonEl.style.display =\n",
              "          google.colab.kernel.accessAllowed ? 'block' : 'none';\n",
              "\n",
              "        async function convertToInteractive(key) {\n",
              "          const element = document.querySelector('#df-3cead994-c929-4baf-8905-f4fea21b1e88');\n",
              "          const dataTable =\n",
              "            await google.colab.kernel.invokeFunction('convertToInteractive',\n",
              "                                                     [key], {});\n",
              "          if (!dataTable) return;\n",
              "\n",
              "          const docLinkHtml = 'Like what you see? Visit the ' +\n",
              "            '<a target=\"_blank\" href=https://colab.research.google.com/notebooks/data_table.ipynb>data table notebook</a>'\n",
              "            + ' to learn more about interactive tables.';\n",
              "          element.innerHTML = '';\n",
              "          dataTable['output_type'] = 'display_data';\n",
              "          await google.colab.output.renderOutput(dataTable, element);\n",
              "          const docLink = document.createElement('div');\n",
              "          docLink.innerHTML = docLinkHtml;\n",
              "          element.appendChild(docLink);\n",
              "        }\n",
              "      </script>\n",
              "    </div>\n",
              "  </div>\n",
              "  "
            ]
          },
          "metadata": {},
          "execution_count": 6
        }
      ]
    },
    {
      "cell_type": "code",
      "source": [
        "# lets' look the dimension of the dataset, it looks like we have few sample to train, so we need to carefull clean them.\n",
        "df.shape"
      ],
      "metadata": {
        "colab": {
          "base_uri": "https://localhost:8080/"
        },
        "id": "1g8HbH0V9sap",
        "outputId": "8f4ea59b-7c45-49c4-b177-4e173784d69b"
      },
      "execution_count": 7,
      "outputs": [
        {
          "output_type": "execute_result",
          "data": {
            "text/plain": [
              "(215, 15)"
            ]
          },
          "metadata": {},
          "execution_count": 7
        }
      ]
    },
    {
      "cell_type": "code",
      "source": [
        "# Descriptive statistics can provide a wealth of information about each feature.\n",
        "df.describe().transpose()"
      ],
      "metadata": {
        "colab": {
          "base_uri": "https://localhost:8080/",
          "height": 269
        },
        "id": "XqtAmAMA9wMN",
        "outputId": "373f24ab-9e60-4312-e799-b6bced3ee392"
      },
      "execution_count": 8,
      "outputs": [
        {
          "output_type": "execute_result",
          "data": {
            "text/plain": [
              "          count           mean           std        min         25%       50%  \\\n",
              "sl_no     215.0     108.000000     62.209324       1.00      54.500     108.0   \n",
              "ssc_p     215.0      67.303395     10.827205      40.89      60.600      67.0   \n",
              "hsc_p     215.0      66.333163     10.897509      37.00      60.900      65.0   \n",
              "degree_p  215.0      66.370186      7.358743      50.00      61.000      66.0   \n",
              "etest_p   215.0      72.100558     13.275956      50.00      60.000      71.0   \n",
              "mba_p     215.0      62.278186      5.833385      51.21      57.945      62.0   \n",
              "salary    148.0  288655.405405  93457.452420  200000.00  240000.000  265000.0   \n",
              "\n",
              "                 75%        max  \n",
              "sl_no        161.500     215.00  \n",
              "ssc_p         75.700      89.40  \n",
              "hsc_p         73.000      97.70  \n",
              "degree_p      72.000      91.00  \n",
              "etest_p       83.500      98.00  \n",
              "mba_p         66.255      77.89  \n",
              "salary    300000.000  940000.00  "
            ],
            "text/html": [
              "\n",
              "  <div id=\"df-e96f5a23-27a3-4f57-b116-0ddf7c77805e\">\n",
              "    <div class=\"colab-df-container\">\n",
              "      <div>\n",
              "<style scoped>\n",
              "    .dataframe tbody tr th:only-of-type {\n",
              "        vertical-align: middle;\n",
              "    }\n",
              "\n",
              "    .dataframe tbody tr th {\n",
              "        vertical-align: top;\n",
              "    }\n",
              "\n",
              "    .dataframe thead th {\n",
              "        text-align: right;\n",
              "    }\n",
              "</style>\n",
              "<table border=\"1\" class=\"dataframe\">\n",
              "  <thead>\n",
              "    <tr style=\"text-align: right;\">\n",
              "      <th></th>\n",
              "      <th>count</th>\n",
              "      <th>mean</th>\n",
              "      <th>std</th>\n",
              "      <th>min</th>\n",
              "      <th>25%</th>\n",
              "      <th>50%</th>\n",
              "      <th>75%</th>\n",
              "      <th>max</th>\n",
              "    </tr>\n",
              "  </thead>\n",
              "  <tbody>\n",
              "    <tr>\n",
              "      <th>sl_no</th>\n",
              "      <td>215.0</td>\n",
              "      <td>108.000000</td>\n",
              "      <td>62.209324</td>\n",
              "      <td>1.00</td>\n",
              "      <td>54.500</td>\n",
              "      <td>108.0</td>\n",
              "      <td>161.500</td>\n",
              "      <td>215.00</td>\n",
              "    </tr>\n",
              "    <tr>\n",
              "      <th>ssc_p</th>\n",
              "      <td>215.0</td>\n",
              "      <td>67.303395</td>\n",
              "      <td>10.827205</td>\n",
              "      <td>40.89</td>\n",
              "      <td>60.600</td>\n",
              "      <td>67.0</td>\n",
              "      <td>75.700</td>\n",
              "      <td>89.40</td>\n",
              "    </tr>\n",
              "    <tr>\n",
              "      <th>hsc_p</th>\n",
              "      <td>215.0</td>\n",
              "      <td>66.333163</td>\n",
              "      <td>10.897509</td>\n",
              "      <td>37.00</td>\n",
              "      <td>60.900</td>\n",
              "      <td>65.0</td>\n",
              "      <td>73.000</td>\n",
              "      <td>97.70</td>\n",
              "    </tr>\n",
              "    <tr>\n",
              "      <th>degree_p</th>\n",
              "      <td>215.0</td>\n",
              "      <td>66.370186</td>\n",
              "      <td>7.358743</td>\n",
              "      <td>50.00</td>\n",
              "      <td>61.000</td>\n",
              "      <td>66.0</td>\n",
              "      <td>72.000</td>\n",
              "      <td>91.00</td>\n",
              "    </tr>\n",
              "    <tr>\n",
              "      <th>etest_p</th>\n",
              "      <td>215.0</td>\n",
              "      <td>72.100558</td>\n",
              "      <td>13.275956</td>\n",
              "      <td>50.00</td>\n",
              "      <td>60.000</td>\n",
              "      <td>71.0</td>\n",
              "      <td>83.500</td>\n",
              "      <td>98.00</td>\n",
              "    </tr>\n",
              "    <tr>\n",
              "      <th>mba_p</th>\n",
              "      <td>215.0</td>\n",
              "      <td>62.278186</td>\n",
              "      <td>5.833385</td>\n",
              "      <td>51.21</td>\n",
              "      <td>57.945</td>\n",
              "      <td>62.0</td>\n",
              "      <td>66.255</td>\n",
              "      <td>77.89</td>\n",
              "    </tr>\n",
              "    <tr>\n",
              "      <th>salary</th>\n",
              "      <td>148.0</td>\n",
              "      <td>288655.405405</td>\n",
              "      <td>93457.452420</td>\n",
              "      <td>200000.00</td>\n",
              "      <td>240000.000</td>\n",
              "      <td>265000.0</td>\n",
              "      <td>300000.000</td>\n",
              "      <td>940000.00</td>\n",
              "    </tr>\n",
              "  </tbody>\n",
              "</table>\n",
              "</div>\n",
              "      <button class=\"colab-df-convert\" onclick=\"convertToInteractive('df-e96f5a23-27a3-4f57-b116-0ddf7c77805e')\"\n",
              "              title=\"Convert this dataframe to an interactive table.\"\n",
              "              style=\"display:none;\">\n",
              "        \n",
              "  <svg xmlns=\"http://www.w3.org/2000/svg\" height=\"24px\"viewBox=\"0 0 24 24\"\n",
              "       width=\"24px\">\n",
              "    <path d=\"M0 0h24v24H0V0z\" fill=\"none\"/>\n",
              "    <path d=\"M18.56 5.44l.94 2.06.94-2.06 2.06-.94-2.06-.94-.94-2.06-.94 2.06-2.06.94zm-11 1L8.5 8.5l.94-2.06 2.06-.94-2.06-.94L8.5 2.5l-.94 2.06-2.06.94zm10 10l.94 2.06.94-2.06 2.06-.94-2.06-.94-.94-2.06-.94 2.06-2.06.94z\"/><path d=\"M17.41 7.96l-1.37-1.37c-.4-.4-.92-.59-1.43-.59-.52 0-1.04.2-1.43.59L10.3 9.45l-7.72 7.72c-.78.78-.78 2.05 0 2.83L4 21.41c.39.39.9.59 1.41.59.51 0 1.02-.2 1.41-.59l7.78-7.78 2.81-2.81c.8-.78.8-2.07 0-2.86zM5.41 20L4 18.59l7.72-7.72 1.47 1.35L5.41 20z\"/>\n",
              "  </svg>\n",
              "      </button>\n",
              "      \n",
              "  <style>\n",
              "    .colab-df-container {\n",
              "      display:flex;\n",
              "      flex-wrap:wrap;\n",
              "      gap: 12px;\n",
              "    }\n",
              "\n",
              "    .colab-df-convert {\n",
              "      background-color: #E8F0FE;\n",
              "      border: none;\n",
              "      border-radius: 50%;\n",
              "      cursor: pointer;\n",
              "      display: none;\n",
              "      fill: #1967D2;\n",
              "      height: 32px;\n",
              "      padding: 0 0 0 0;\n",
              "      width: 32px;\n",
              "    }\n",
              "\n",
              "    .colab-df-convert:hover {\n",
              "      background-color: #E2EBFA;\n",
              "      box-shadow: 0px 1px 2px rgba(60, 64, 67, 0.3), 0px 1px 3px 1px rgba(60, 64, 67, 0.15);\n",
              "      fill: #174EA6;\n",
              "    }\n",
              "\n",
              "    [theme=dark] .colab-df-convert {\n",
              "      background-color: #3B4455;\n",
              "      fill: #D2E3FC;\n",
              "    }\n",
              "\n",
              "    [theme=dark] .colab-df-convert:hover {\n",
              "      background-color: #434B5C;\n",
              "      box-shadow: 0px 1px 3px 1px rgba(0, 0, 0, 0.15);\n",
              "      filter: drop-shadow(0px 1px 2px rgba(0, 0, 0, 0.3));\n",
              "      fill: #FFFFFF;\n",
              "    }\n",
              "  </style>\n",
              "\n",
              "      <script>\n",
              "        const buttonEl =\n",
              "          document.querySelector('#df-e96f5a23-27a3-4f57-b116-0ddf7c77805e button.colab-df-convert');\n",
              "        buttonEl.style.display =\n",
              "          google.colab.kernel.accessAllowed ? 'block' : 'none';\n",
              "\n",
              "        async function convertToInteractive(key) {\n",
              "          const element = document.querySelector('#df-e96f5a23-27a3-4f57-b116-0ddf7c77805e');\n",
              "          const dataTable =\n",
              "            await google.colab.kernel.invokeFunction('convertToInteractive',\n",
              "                                                     [key], {});\n",
              "          if (!dataTable) return;\n",
              "\n",
              "          const docLinkHtml = 'Like what you see? Visit the ' +\n",
              "            '<a target=\"_blank\" href=https://colab.research.google.com/notebooks/data_table.ipynb>data table notebook</a>'\n",
              "            + ' to learn more about interactive tables.';\n",
              "          element.innerHTML = '';\n",
              "          dataTable['output_type'] = 'display_data';\n",
              "          await google.colab.output.renderOutput(dataTable, element);\n",
              "          const docLink = document.createElement('div');\n",
              "          docLink.innerHTML = docLinkHtml;\n",
              "          element.appendChild(docLink);\n",
              "        }\n",
              "      </script>\n",
              "    </div>\n",
              "  </div>\n",
              "  "
            ]
          },
          "metadata": {},
          "execution_count": 8
        }
      ]
    },
    {
      "cell_type": "code",
      "source": [
        "df.boxplot(column=['salary'])"
      ],
      "metadata": {
        "colab": {
          "base_uri": "https://localhost:8080/",
          "height": 282
        },
        "id": "bzBZVPUHfvXJ",
        "outputId": "142839fe-7b7c-4de7-a934-83def1072c1e"
      },
      "execution_count": 9,
      "outputs": [
        {
          "output_type": "execute_result",
          "data": {
            "text/plain": [
              "<matplotlib.axes._subplots.AxesSubplot at 0x7f568ba92290>"
            ]
          },
          "metadata": {},
          "execution_count": 9
        },
        {
          "output_type": "display_data",
          "data": {
            "text/plain": [
              "<Figure size 432x288 with 1 Axes>"
            ],
            "image/png": "[encoded data removed]"
          },
          "metadata": {
            "needs_background": "light"
          }
        }
      ]
    },
    {
      "cell_type": "code",
      "source": [
        "df.isnull().sum()"
      ],
      "metadata": {
        "colab": {
          "base_uri": "https://localhost:8080/"
        },
        "id": "Rysqk0gJgs1o",
        "outputId": "138cf1a5-a845-4a18-b6de-3b2b94451ddf"
      },
      "execution_count": 10,
      "outputs": [
        {
          "output_type": "execute_result",
          "data": {
            "text/plain": [
              "sl_no              0\n",
              "gender             0\n",
              "ssc_p              0\n",
              "ssc_b              0\n",
              "hsc_p              0\n",
              "hsc_b              0\n",
              "hsc_s              0\n",
              "degree_p           0\n",
              "degree_t           0\n",
              "workex             0\n",
              "etest_p            0\n",
              "specialisation     0\n",
              "mba_p              0\n",
              "status             0\n",
              "salary            67\n",
              "dtype: int64"
            ]
          },
          "metadata": {},
          "execution_count": 10
        }
      ]
    },
    {
      "cell_type": "code",
      "source": [
        "df.hist(figsize=(30, 10))"
      ],
      "metadata": {
        "colab": {
          "base_uri": "https://localhost:8080/",
          "height": 781
        },
        "id": "RrwdjBVnhd_M",
        "outputId": "0f16547c-7598-4a48-d8f1-9296541bc395"
      },
      "execution_count": 11,
      "outputs": [
        {
          "output_type": "execute_result",
          "data": {
            "text/plain": [
              "array([[<matplotlib.axes._subplots.AxesSubplot object at 0x7f568b970a10>,\n",
              "        <matplotlib.axes._subplots.AxesSubplot object at 0x7f568b4e8990>,\n",
              "        <matplotlib.axes._subplots.AxesSubplot object at 0x7f568b4b4110>],\n",
              "       [<matplotlib.axes._subplots.AxesSubplot object at 0x7f568b46a710>,\n",
              "        <matplotlib.axes._subplots.AxesSubplot object at 0x7f568b41cd50>,\n",
              "        <matplotlib.axes._subplots.AxesSubplot object at 0x7f568b3dd3d0>],\n",
              "       [<matplotlib.axes._subplots.AxesSubplot object at 0x7f568b5045d0>,\n",
              "        <matplotlib.axes._subplots.AxesSubplot object at 0x7f568b3c7490>,\n",
              "        <matplotlib.axes._subplots.AxesSubplot object at 0x7f568b3c74d0>]],\n",
              "      dtype=object)"
            ]
          },
          "metadata": {},
          "execution_count": 11
        },
        {
          "output_type": "display_data",
          "data": {
            "text/plain": [
              "<Figure size 2160x720 with 9 Axes>"
            ],
            "image/png": "[encoded data removed]"
          },
          "metadata": {
            "needs_background": "light"
          }
        }
      ]
    },
    {
      "cell_type": "code",
      "source": [
        "corr = df.corr()\n",
        "corr"
      ],
      "metadata": {
        "colab": {
          "base_uri": "https://localhost:8080/",
          "height": 269
        },
        "id": "PfvDqjyIaj1V",
        "outputId": "7a9a92ba-55aa-4b99-d614-93788d9184be"
      },
      "execution_count": 12,
      "outputs": [
        {
          "output_type": "execute_result",
          "data": {
            "text/plain": [
              "             sl_no     ssc_p     hsc_p  degree_p   etest_p     mba_p    salary\n",
              "sl_no     1.000000 -0.078155 -0.085711 -0.088281  0.063636  0.022327  0.063764\n",
              "ssc_p    -0.078155  1.000000  0.511472  0.538404  0.261993  0.388478  0.035330\n",
              "hsc_p    -0.085711  0.511472  1.000000  0.434206  0.245113  0.354823  0.076819\n",
              "degree_p -0.088281  0.538404  0.434206  1.000000  0.224470  0.402364 -0.019272\n",
              "etest_p   0.063636  0.261993  0.245113  0.224470  1.000000  0.218055  0.178307\n",
              "mba_p     0.022327  0.388478  0.354823  0.402364  0.218055  1.000000  0.175013\n",
              "salary    0.063764  0.035330  0.076819 -0.019272  0.178307  0.175013  1.000000"
            ],
            "text/html": [
              "\n",
              "  <div id=\"df-da9ea142-41ba-47e1-a838-0eece16bb46b\">\n",
              "    <div class=\"colab-df-container\">\n",
              "      <div>\n",
              "<style scoped>\n",
              "    .dataframe tbody tr th:only-of-type {\n",
              "        vertical-align: middle;\n",
              "    }\n",
              "\n",
              "    .dataframe tbody tr th {\n",
              "        vertical-align: top;\n",
              "    }\n",
              "\n",
              "    .dataframe thead th {\n",
              "        text-align: right;\n",
              "    }\n",
              "</style>\n",
              "<table border=\"1\" class=\"dataframe\">\n",
              "  <thead>\n",
              "    <tr style=\"text-align: right;\">\n",
              "      <th></th>\n",
              "      <th>sl_no</th>\n",
              "      <th>ssc_p</th>\n",
              "      <th>hsc_p</th>\n",
              "      <th>degree_p</th>\n",
              "      <th>etest_p</th>\n",
              "      <th>mba_p</th>\n",
              "      <th>salary</th>\n",
              "    </tr>\n",
              "  </thead>\n",
              "  <tbody>\n",
              "    <tr>\n",
              "      <th>sl_no</th>\n",
              "      <td>1.000000</td>\n",
              "      <td>-0.078155</td>\n",
              "      <td>-0.085711</td>\n",
              "      <td>-0.088281</td>\n",
              "      <td>0.063636</td>\n",
              "      <td>0.022327</td>\n",
              "      <td>0.063764</td>\n",
              "    </tr>\n",
              "    <tr>\n",
              "      <th>ssc_p</th>\n",
              "      <td>-0.078155</td>\n",
              "      <td>1.000000</td>\n",
              "      <td>0.511472</td>\n",
              "      <td>0.538404</td>\n",
              "      <td>0.261993</td>\n",
              "      <td>0.388478</td>\n",
              "      <td>0.035330</td>\n",
              "    </tr>\n",
              "    <tr>\n",
              "      <th>hsc_p</th>\n",
              "      <td>-0.085711</td>\n",
              "      <td>0.511472</td>\n",
              "      <td>1.000000</td>\n",
              "      <td>0.434206</td>\n",
              "      <td>0.245113</td>\n",
              "      <td>0.354823</td>\n",
              "      <td>0.076819</td>\n",
              "    </tr>\n",
              "    <tr>\n",
              "      <th>degree_p</th>\n",
              "      <td>-0.088281</td>\n",
              "      <td>0.538404</td>\n",
              "      <td>0.434206</td>\n",
              "      <td>1.000000</td>\n",
              "      <td>0.224470</td>\n",
              "      <td>0.402364</td>\n",
              "      <td>-0.019272</td>\n",
              "    </tr>\n",
              "    <tr>\n",
              "      <th>etest_p</th>\n",
              "      <td>0.063636</td>\n",
              "      <td>0.261993</td>\n",
              "      <td>0.245113</td>\n",
              "      <td>0.224470</td>\n",
              "      <td>1.000000</td>\n",
              "      <td>0.218055</td>\n",
              "      <td>0.178307</td>\n",
              "    </tr>\n",
              "    <tr>\n",
              "      <th>mba_p</th>\n",
              "      <td>0.022327</td>\n",
              "      <td>0.388478</td>\n",
              "      <td>0.354823</td>\n",
              "      <td>0.402364</td>\n",
              "      <td>0.218055</td>\n",
              "      <td>1.000000</td>\n",
              "      <td>0.175013</td>\n",
              "    </tr>\n",
              "    <tr>\n",
              "      <th>salary</th>\n",
              "      <td>0.063764</td>\n",
              "      <td>0.035330</td>\n",
              "      <td>0.076819</td>\n",
              "      <td>-0.019272</td>\n",
              "      <td>0.178307</td>\n",
              "      <td>0.175013</td>\n",
              "      <td>1.000000</td>\n",
              "    </tr>\n",
              "  </tbody>\n",
              "</table>\n",
              "</div>\n",
              "      <button class=\"colab-df-convert\" onclick=\"convertToInteractive('df-da9ea142-41ba-47e1-a838-0eece16bb46b')\"\n",
              "              title=\"Convert this dataframe to an interactive table.\"\n",
              "              style=\"display:none;\">\n",
              "        \n",
              "  <svg xmlns=\"http://www.w3.org/2000/svg\" height=\"24px\"viewBox=\"0 0 24 24\"\n",
              "       width=\"24px\">\n",
              "    <path d=\"M0 0h24v24H0V0z\" fill=\"none\"/>\n",
              "    <path d=\"M18.56 5.44l.94 2.06.94-2.06 2.06-.94-2.06-.94-.94-2.06-.94 2.06-2.06.94zm-11 1L8.5 8.5l.94-2.06 2.06-.94-2.06-.94L8.5 2.5l-.94 2.06-2.06.94zm10 10l.94 2.06.94-2.06 2.06-.94-2.06-.94-.94-2.06-.94 2.06-2.06.94z\"/><path d=\"M17.41 7.96l-1.37-1.37c-.4-.4-.92-.59-1.43-.59-.52 0-1.04.2-1.43.59L10.3 9.45l-7.72 7.72c-.78.78-.78 2.05 0 2.83L4 21.41c.39.39.9.59 1.41.59.51 0 1.02-.2 1.41-.59l7.78-7.78 2.81-2.81c.8-.78.8-2.07 0-2.86zM5.41 20L4 18.59l7.72-7.72 1.47 1.35L5.41 20z\"/>\n",
              "  </svg>\n",
              "      </button>\n",
              "      \n",
              "  <style>\n",
              "    .colab-df-container {\n",
              "      display:flex;\n",
              "      flex-wrap:wrap;\n",
              "      gap: 12px;\n",
              "    }\n",
              "\n",
              "    .colab-df-convert {\n",
              "      background-color: #E8F0FE;\n",
              "      border: none;\n",
              "      border-radius: 50%;\n",
              "      cursor: pointer;\n",
              "      display: none;\n",
              "      fill: #1967D2;\n",
              "      height: 32px;\n",
              "      padding: 0 0 0 0;\n",
              "      width: 32px;\n",
              "    }\n",
              "\n",
              "    .colab-df-convert:hover {\n",
              "      background-color: #E2EBFA;\n",
              "      box-shadow: 0px 1px 2px rgba(60, 64, 67, 0.3), 0px 1px 3px 1px rgba(60, 64, 67, 0.15);\n",
              "      fill: #174EA6;\n",
              "    }\n",
              "\n",
              "    [theme=dark] .colab-df-convert {\n",
              "      background-color: #3B4455;\n",
              "      fill: #D2E3FC;\n",
              "    }\n",
              "\n",
              "    [theme=dark] .colab-df-convert:hover {\n",
              "      background-color: #434B5C;\n",
              "      box-shadow: 0px 1px 3px 1px rgba(0, 0, 0, 0.15);\n",
              "      filter: drop-shadow(0px 1px 2px rgba(0, 0, 0, 0.3));\n",
              "      fill: #FFFFFF;\n",
              "    }\n",
              "  </style>\n",
              "\n",
              "      <script>\n",
              "        const buttonEl =\n",
              "          document.querySelector('#df-da9ea142-41ba-47e1-a838-0eece16bb46b button.colab-df-convert');\n",
              "        buttonEl.style.display =\n",
              "          google.colab.kernel.accessAllowed ? 'block' : 'none';\n",
              "\n",
              "        async function convertToInteractive(key) {\n",
              "          const element = document.querySelector('#df-da9ea142-41ba-47e1-a838-0eece16bb46b');\n",
              "          const dataTable =\n",
              "            await google.colab.kernel.invokeFunction('convertToInteractive',\n",
              "                                                     [key], {});\n",
              "          if (!dataTable) return;\n",
              "\n",
              "          const docLinkHtml = 'Like what you see? Visit the ' +\n",
              "            '<a target=\"_blank\" href=https://colab.research.google.com/notebooks/data_table.ipynb>data table notebook</a>'\n",
              "            + ' to learn more about interactive tables.';\n",
              "          element.innerHTML = '';\n",
              "          dataTable['output_type'] = 'display_data';\n",
              "          await google.colab.output.renderOutput(dataTable, element);\n",
              "          const docLink = document.createElement('div');\n",
              "          docLink.innerHTML = docLinkHtml;\n",
              "          element.appendChild(docLink);\n",
              "        }\n",
              "      </script>\n",
              "    </div>\n",
              "  </div>\n",
              "  "
            ]
          },
          "metadata": {},
          "execution_count": 12
        }
      ]
    },
    {
      "cell_type": "code",
      "source": [
        "import seaborn as sns\n",
        "\n",
        "sns.set(style=\"ticks\", color_codes=True)\n",
        "g = sns.pairplot(df, vars=['sl_no', 'ssc_p', 'hsc_p', 'salary', 'status'])"
      ],
      "metadata": {
        "colab": {
          "base_uri": "https://localhost:8080/",
          "height": 901
        },
        "id": "Bb2ARSm4bCAH",
        "outputId": "1ca42b44-227f-4689-8670-1917f0c4ecc8"
      },
      "execution_count": 13,
      "outputs": [
        {
          "output_type": "display_data",
          "data": {
            "text/plain": [
              "<Figure size 900x900 with 30 Axes>"
            ],
            "image/png": "[encoded data removed]"
          },
          "metadata": {}
        }
      ]
    },
    {
      "cell_type": "markdown",
      "source": [
        ""
      ],
      "metadata": {
        "id": "h91Z1Bf5EIgH"
      }
    },
    {
      "cell_type": "markdown",
      "source": [
        "# Pre-processing \n",
        "\n",
        "> Indented block\n",
        "\n"
      ],
      "metadata": {
        "id": "OVo7v4cV7sbs"
      }
    },
    {
      "cell_type": "code",
      "source": [
        "# Recall what we have learned, check the missing value, follow the rules of thumbs, and remedy them\n",
        "df['salary'] = df['salary'].fillna(0)"
      ],
      "metadata": {
        "id": "zGkNA7XK9-pw"
      },
      "execution_count": 14,
      "outputs": []
    },
    {
      "cell_type": "markdown",
      "source": [
        "# Transformation"
      ],
      "metadata": {
        "id": "LfuY0cvu7w8r"
      }
    },
    {
      "cell_type": "code",
      "source": [
        "df.head()"
      ],
      "metadata": {
        "colab": {
          "base_uri": "https://localhost:8080/",
          "height": 206
        },
        "id": "RsJjBtCB47w7",
        "outputId": "d1e43851-aafe-4481-8527-201a3cd9eb96"
      },
      "execution_count": 15,
      "outputs": [
        {
          "output_type": "execute_result",
          "data": {
            "text/plain": [
              "   sl_no gender  ssc_p    ssc_b  hsc_p    hsc_b     hsc_s  degree_p  \\\n",
              "0      1      M  67.00   Others  91.00   Others  Commerce     58.00   \n",
              "1      2      M  79.33  Central  78.33   Others   Science     77.48   \n",
              "2      3      M  65.00  Central  68.00  Central      Arts     64.00   \n",
              "3      4      M  56.00  Central  52.00  Central   Science     52.00   \n",
              "4      5      M  85.80  Central  73.60  Central  Commerce     73.30   \n",
              "\n",
              "    degree_t workex  etest_p specialisation  mba_p      status    salary  \n",
              "0   Sci&Tech     No     55.0         Mkt&HR  58.80      Placed  270000.0  \n",
              "1   Sci&Tech    Yes     86.5        Mkt&Fin  66.28      Placed  200000.0  \n",
              "2  Comm&Mgmt     No     75.0        Mkt&Fin  57.80      Placed  250000.0  \n",
              "3   Sci&Tech     No     66.0         Mkt&HR  59.43  Not Placed       0.0  \n",
              "4  Comm&Mgmt     No     96.8        Mkt&Fin  55.50      Placed  425000.0  "
            ],
            "text/html": [
              "\n",
              "  <div id=\"df-95742448-cd14-4b87-981f-60fa5bc4ac18\">\n",
              "    <div class=\"colab-df-container\">\n",
              "      <div>\n",
              "<style scoped>\n",
              "    .dataframe tbody tr th:only-of-type {\n",
              "        vertical-align: middle;\n",
              "    }\n",
              "\n",
              "    .dataframe tbody tr th {\n",
              "        vertical-align: top;\n",
              "    }\n",
              "\n",
              "    .dataframe thead th {\n",
              "        text-align: right;\n",
              "    }\n",
              "</style>\n",
              "<table border=\"1\" class=\"dataframe\">\n",
              "  <thead>\n",
              "    <tr style=\"text-align: right;\">\n",
              "      <th></th>\n",
              "      <th>sl_no</th>\n",
              "      <th>gender</th>\n",
              "      <th>ssc_p</th>\n",
              "      <th>ssc_b</th>\n",
              "      <th>hsc_p</th>\n",
              "      <th>hsc_b</th>\n",
              "      <th>hsc_s</th>\n",
              "      <th>degree_p</th>\n",
              "      <th>degree_t</th>\n",
              "      <th>workex</th>\n",
              "      <th>etest_p</th>\n",
              "      <th>specialisation</th>\n",
              "      <th>mba_p</th>\n",
              "      <th>status</th>\n",
              "      <th>salary</th>\n",
              "    </tr>\n",
              "  </thead>\n",
              "  <tbody>\n",
              "    <tr>\n",
              "      <th>0</th>\n",
              "      <td>1</td>\n",
              "      <td>M</td>\n",
              "      <td>67.00</td>\n",
              "      <td>Others</td>\n",
              "      <td>91.00</td>\n",
              "      <td>Others</td>\n",
              "      <td>Commerce</td>\n",
              "      <td>58.00</td>\n",
              "      <td>Sci&amp;Tech</td>\n",
              "      <td>No</td>\n",
              "      <td>55.0</td>\n",
              "      <td>Mkt&amp;HR</td>\n",
              "      <td>58.80</td>\n",
              "      <td>Placed</td>\n",
              "      <td>270000.0</td>\n",
              "    </tr>\n",
              "    <tr>\n",
              "      <th>1</th>\n",
              "      <td>2</td>\n",
              "      <td>M</td>\n",
              "      <td>79.33</td>\n",
              "      <td>Central</td>\n",
              "      <td>78.33</td>\n",
              "      <td>Others</td>\n",
              "      <td>Science</td>\n",
              "      <td>77.48</td>\n",
              "      <td>Sci&amp;Tech</td>\n",
              "      <td>Yes</td>\n",
              "      <td>86.5</td>\n",
              "      <td>Mkt&amp;Fin</td>\n",
              "      <td>66.28</td>\n",
              "      <td>Placed</td>\n",
              "      <td>200000.0</td>\n",
              "    </tr>\n",
              "    <tr>\n",
              "      <th>2</th>\n",
              "      <td>3</td>\n",
              "      <td>M</td>\n",
              "      <td>65.00</td>\n",
              "      <td>Central</td>\n",
              "      <td>68.00</td>\n",
              "      <td>Central</td>\n",
              "      <td>Arts</td>\n",
              "      <td>64.00</td>\n",
              "      <td>Comm&amp;Mgmt</td>\n",
              "      <td>No</td>\n",
              "      <td>75.0</td>\n",
              "      <td>Mkt&amp;Fin</td>\n",
              "      <td>57.80</td>\n",
              "      <td>Placed</td>\n",
              "      <td>250000.0</td>\n",
              "    </tr>\n",
              "    <tr>\n",
              "      <th>3</th>\n",
              "      <td>4</td>\n",
              "      <td>M</td>\n",
              "      <td>56.00</td>\n",
              "      <td>Central</td>\n",
              "      <td>52.00</td>\n",
              "      <td>Central</td>\n",
              "      <td>Science</td>\n",
              "      <td>52.00</td>\n",
              "      <td>Sci&amp;Tech</td>\n",
              "      <td>No</td>\n",
              "      <td>66.0</td>\n",
              "      <td>Mkt&amp;HR</td>\n",
              "      <td>59.43</td>\n",
              "      <td>Not Placed</td>\n",
              "      <td>0.0</td>\n",
              "    </tr>\n",
              "    <tr>\n",
              "      <th>4</th>\n",
              "      <td>5</td>\n",
              "      <td>M</td>\n",
              "      <td>85.80</td>\n",
              "      <td>Central</td>\n",
              "      <td>73.60</td>\n",
              "      <td>Central</td>\n",
              "      <td>Commerce</td>\n",
              "      <td>73.30</td>\n",
              "      <td>Comm&amp;Mgmt</td>\n",
              "      <td>No</td>\n",
              "      <td>96.8</td>\n",
              "      <td>Mkt&amp;Fin</td>\n",
              "      <td>55.50</td>\n",
              "      <td>Placed</td>\n",
              "      <td>425000.0</td>\n",
              "    </tr>\n",
              "  </tbody>\n",
              "</table>\n",
              "</div>\n",
              "      <button class=\"colab-df-convert\" onclick=\"convertToInteractive('df-95742448-cd14-4b87-981f-60fa5bc4ac18')\"\n",
              "              title=\"Convert this dataframe to an interactive table.\"\n",
              "              style=\"display:none;\">\n",
              "        \n",
              "  <svg xmlns=\"http://www.w3.org/2000/svg\" height=\"24px\"viewBox=\"0 0 24 24\"\n",
              "       width=\"24px\">\n",
              "    <path d=\"M0 0h24v24H0V0z\" fill=\"none\"/>\n",
              "    <path d=\"M18.56 5.44l.94 2.06.94-2.06 2.06-.94-2.06-.94-.94-2.06-.94 2.06-2.06.94zm-11 1L8.5 8.5l.94-2.06 2.06-.94-2.06-.94L8.5 2.5l-.94 2.06-2.06.94zm10 10l.94 2.06.94-2.06 2.06-.94-2.06-.94-.94-2.06-.94 2.06-2.06.94z\"/><path d=\"M17.41 7.96l-1.37-1.37c-.4-.4-.92-.59-1.43-.59-.52 0-1.04.2-1.43.59L10.3 9.45l-7.72 7.72c-.78.78-.78 2.05 0 2.83L4 21.41c.39.39.9.59 1.41.59.51 0 1.02-.2 1.41-.59l7.78-7.78 2.81-2.81c.8-.78.8-2.07 0-2.86zM5.41 20L4 18.59l7.72-7.72 1.47 1.35L5.41 20z\"/>\n",
              "  </svg>\n",
              "      </button>\n",
              "      \n",
              "  <style>\n",
              "    .colab-df-container {\n",
              "      display:flex;\n",
              "      flex-wrap:wrap;\n",
              "      gap: 12px;\n",
              "    }\n",
              "\n",
              "    .colab-df-convert {\n",
              "      background-color: #E8F0FE;\n",
              "      border: none;\n",
              "      border-radius: 50%;\n",
              "      cursor: pointer;\n",
              "      display: none;\n",
              "      fill: #1967D2;\n",
              "      height: 32px;\n",
              "      padding: 0 0 0 0;\n",
              "      width: 32px;\n",
              "    }\n",
              "\n",
              "    .colab-df-convert:hover {\n",
              "      background-color: #E2EBFA;\n",
              "      box-shadow: 0px 1px 2px rgba(60, 64, 67, 0.3), 0px 1px 3px 1px rgba(60, 64, 67, 0.15);\n",
              "      fill: #174EA6;\n",
              "    }\n",
              "\n",
              "    [theme=dark] .colab-df-convert {\n",
              "      background-color: #3B4455;\n",
              "      fill: #D2E3FC;\n",
              "    }\n",
              "\n",
              "    [theme=dark] .colab-df-convert:hover {\n",
              "      background-color: #434B5C;\n",
              "      box-shadow: 0px 1px 3px 1px rgba(0, 0, 0, 0.15);\n",
              "      filter: drop-shadow(0px 1px 2px rgba(0, 0, 0, 0.3));\n",
              "      fill: #FFFFFF;\n",
              "    }\n",
              "  </style>\n",
              "\n",
              "      <script>\n",
              "        const buttonEl =\n",
              "          document.querySelector('#df-95742448-cd14-4b87-981f-60fa5bc4ac18 button.colab-df-convert');\n",
              "        buttonEl.style.display =\n",
              "          google.colab.kernel.accessAllowed ? 'block' : 'none';\n",
              "\n",
              "        async function convertToInteractive(key) {\n",
              "          const element = document.querySelector('#df-95742448-cd14-4b87-981f-60fa5bc4ac18');\n",
              "          const dataTable =\n",
              "            await google.colab.kernel.invokeFunction('convertToInteractive',\n",
              "                                                     [key], {});\n",
              "          if (!dataTable) return;\n",
              "\n",
              "          const docLinkHtml = 'Like what you see? Visit the ' +\n",
              "            '<a target=\"_blank\" href=https://colab.research.google.com/notebooks/data_table.ipynb>data table notebook</a>'\n",
              "            + ' to learn more about interactive tables.';\n",
              "          element.innerHTML = '';\n",
              "          dataTable['output_type'] = 'display_data';\n",
              "          await google.colab.output.renderOutput(dataTable, element);\n",
              "          const docLink = document.createElement('div');\n",
              "          docLink.innerHTML = docLinkHtml;\n",
              "          element.appendChild(docLink);\n",
              "        }\n",
              "      </script>\n",
              "    </div>\n",
              "  </div>\n",
              "  "
            ]
          },
          "metadata": {},
          "execution_count": 15
        }
      ]
    },
    {
      "cell_type": "code",
      "source": [
        "# encoded the nominal feature just like we did on previous workshop\n",
        "df = pd.get_dummies(df, prefix='gender', columns=['gender'], drop_first=False)\n",
        "df = pd.get_dummies(df, prefix='ssc_b', columns=['ssc_b'], drop_first=False)\n",
        "df = pd.get_dummies(df, prefix='hsc_b', columns=['hsc_b'], drop_first=False)\n",
        "df = pd.get_dummies(df, prefix='hsc_s', columns=['hsc_s'], drop_first=False)\n",
        "df = pd.get_dummies(df, prefix='degree_t', columns=['degree_t'], drop_first=False)\n",
        "df = pd.get_dummies(df, prefix='specialisation', columns=['specialisation'], drop_first=False)\n",
        "df = pd.get_dummies(df, prefix='workex', columns=['workex'], drop_first=False)"
      ],
      "metadata": {
        "id": "t1oFm5YD2yDd"
      },
      "execution_count": 16,
      "outputs": []
    },
    {
      "cell_type": "code",
      "source": [
        "df.head()"
      ],
      "metadata": {
        "colab": {
          "base_uri": "https://localhost:8080/",
          "height": 317
        },
        "id": "-EPbkKqm3sQw",
        "outputId": "8141e519-9f8c-4347-f4a7-6454fed06907"
      },
      "execution_count": 17,
      "outputs": [
        {
          "output_type": "execute_result",
          "data": {
            "text/plain": [
              "   sl_no  ssc_p  hsc_p  degree_p  etest_p  mba_p      status    salary  \\\n",
              "0      1  67.00  91.00     58.00     55.0  58.80      Placed  270000.0   \n",
              "1      2  79.33  78.33     77.48     86.5  66.28      Placed  200000.0   \n",
              "2      3  65.00  68.00     64.00     75.0  57.80      Placed  250000.0   \n",
              "3      4  56.00  52.00     52.00     66.0  59.43  Not Placed       0.0   \n",
              "4      5  85.80  73.60     73.30     96.8  55.50      Placed  425000.0   \n",
              "\n",
              "   gender_F  gender_M  ...  hsc_s_Arts  hsc_s_Commerce  hsc_s_Science  \\\n",
              "0         0         1  ...           0               1              0   \n",
              "1         0         1  ...           0               0              1   \n",
              "2         0         1  ...           1               0              0   \n",
              "3         0         1  ...           0               0              1   \n",
              "4         0         1  ...           0               1              0   \n",
              "\n",
              "   degree_t_Comm&Mgmt  degree_t_Others  degree_t_Sci&Tech  \\\n",
              "0                   0                0                  1   \n",
              "1                   0                0                  1   \n",
              "2                   1                0                  0   \n",
              "3                   0                0                  1   \n",
              "4                   1                0                  0   \n",
              "\n",
              "   specialisation_Mkt&Fin  specialisation_Mkt&HR  workex_No  workex_Yes  \n",
              "0                       0                      1          1           0  \n",
              "1                       1                      0          0           1  \n",
              "2                       1                      0          1           0  \n",
              "3                       0                      1          1           0  \n",
              "4                       1                      0          1           0  \n",
              "\n",
              "[5 rows x 24 columns]"
            ],
            "text/html": [
              "\n",
              "  <div id=\"df-585b3de1-c034-48ec-80f4-f97fe1e5b64c\">\n",
              "    <div class=\"colab-df-container\">\n",
              "      <div>\n",
              "<style scoped>\n",
              "    .dataframe tbody tr th:only-of-type {\n",
              "        vertical-align: middle;\n",
              "    }\n",
              "\n",
              "    .dataframe tbody tr th {\n",
              "        vertical-align: top;\n",
              "    }\n",
              "\n",
              "    .dataframe thead th {\n",
              "        text-align: right;\n",
              "    }\n",
              "</style>\n",
              "<table border=\"1\" class=\"dataframe\">\n",
              "  <thead>\n",
              "    <tr style=\"text-align: right;\">\n",
              "      <th></th>\n",
              "      <th>sl_no</th>\n",
              "      <th>ssc_p</th>\n",
              "      <th>hsc_p</th>\n",
              "      <th>degree_p</th>\n",
              "      <th>etest_p</th>\n",
              "      <th>mba_p</th>\n",
              "      <th>status</th>\n",
              "      <th>salary</th>\n",
              "      <th>gender_F</th>\n",
              "      <th>gender_M</th>\n",
              "      <th>...</th>\n",
              "      <th>hsc_s_Arts</th>\n",
              "      <th>hsc_s_Commerce</th>\n",
              "      <th>hsc_s_Science</th>\n",
              "      <th>degree_t_Comm&amp;Mgmt</th>\n",
              "      <th>degree_t_Others</th>\n",
              "      <th>degree_t_Sci&amp;Tech</th>\n",
              "      <th>specialisation_Mkt&amp;Fin</th>\n",
              "      <th>specialisation_Mkt&amp;HR</th>\n",
              "      <th>workex_No</th>\n",
              "      <th>workex_Yes</th>\n",
              "    </tr>\n",
              "  </thead>\n",
              "  <tbody>\n",
              "    <tr>\n",
              "      <th>0</th>\n",
              "      <td>1</td>\n",
              "      <td>67.00</td>\n",
              "      <td>91.00</td>\n",
              "      <td>58.00</td>\n",
              "      <td>55.0</td>\n",
              "      <td>58.80</td>\n",
              "      <td>Placed</td>\n",
              "      <td>270000.0</td>\n",
              "      <td>0</td>\n",
              "      <td>1</td>\n",
              "      <td>...</td>\n",
              "      <td>0</td>\n",
              "      <td>1</td>\n",
              "      <td>0</td>\n",
              "      <td>0</td>\n",
              "      <td>0</td>\n",
              "      <td>1</td>\n",
              "      <td>0</td>\n",
              "      <td>1</td>\n",
              "      <td>1</td>\n",
              "      <td>0</td>\n",
              "    </tr>\n",
              "    <tr>\n",
              "      <th>1</th>\n",
              "      <td>2</td>\n",
              "      <td>79.33</td>\n",
              "      <td>78.33</td>\n",
              "      <td>77.48</td>\n",
              "      <td>86.5</td>\n",
              "      <td>66.28</td>\n",
              "      <td>Placed</td>\n",
              "      <td>200000.0</td>\n",
              "      <td>0</td>\n",
              "      <td>1</td>\n",
              "      <td>...</td>\n",
              "      <td>0</td>\n",
              "      <td>0</td>\n",
              "      <td>1</td>\n",
              "      <td>0</td>\n",
              "      <td>0</td>\n",
              "      <td>1</td>\n",
              "      <td>1</td>\n",
              "      <td>0</td>\n",
              "      <td>0</td>\n",
              "      <td>1</td>\n",
              "    </tr>\n",
              "    <tr>\n",
              "      <th>2</th>\n",
              "      <td>3</td>\n",
              "      <td>65.00</td>\n",
              "      <td>68.00</td>\n",
              "      <td>64.00</td>\n",
              "      <td>75.0</td>\n",
              "      <td>57.80</td>\n",
              "      <td>Placed</td>\n",
              "      <td>250000.0</td>\n",
              "      <td>0</td>\n",
              "      <td>1</td>\n",
              "      <td>...</td>\n",
              "      <td>1</td>\n",
              "      <td>0</td>\n",
              "      <td>0</td>\n",
              "      <td>1</td>\n",
              "      <td>0</td>\n",
              "      <td>0</td>\n",
              "      <td>1</td>\n",
              "      <td>0</td>\n",
              "      <td>1</td>\n",
              "      <td>0</td>\n",
              "    </tr>\n",
              "    <tr>\n",
              "      <th>3</th>\n",
              "      <td>4</td>\n",
              "      <td>56.00</td>\n",
              "      <td>52.00</td>\n",
              "      <td>52.00</td>\n",
              "      <td>66.0</td>\n",
              "      <td>59.43</td>\n",
              "      <td>Not Placed</td>\n",
              "      <td>0.0</td>\n",
              "      <td>0</td>\n",
              "      <td>1</td>\n",
              "      <td>...</td>\n",
              "      <td>0</td>\n",
              "      <td>0</td>\n",
              "      <td>1</td>\n",
              "      <td>0</td>\n",
              "      <td>0</td>\n",
              "      <td>1</td>\n",
              "      <td>0</td>\n",
              "      <td>1</td>\n",
              "      <td>1</td>\n",
              "      <td>0</td>\n",
              "    </tr>\n",
              "    <tr>\n",
              "      <th>4</th>\n",
              "      <td>5</td>\n",
              "      <td>85.80</td>\n",
              "      <td>73.60</td>\n",
              "      <td>73.30</td>\n",
              "      <td>96.8</td>\n",
              "      <td>55.50</td>\n",
              "      <td>Placed</td>\n",
              "      <td>425000.0</td>\n",
              "      <td>0</td>\n",
              "      <td>1</td>\n",
              "      <td>...</td>\n",
              "      <td>0</td>\n",
              "      <td>1</td>\n",
              "      <td>0</td>\n",
              "      <td>1</td>\n",
              "      <td>0</td>\n",
              "      <td>0</td>\n",
              "      <td>1</td>\n",
              "      <td>0</td>\n",
              "      <td>1</td>\n",
              "      <td>0</td>\n",
              "    </tr>\n",
              "  </tbody>\n",
              "</table>\n",
              "<p>5 rows × 24 columns</p>\n",
              "</div>\n",
              "      <button class=\"colab-df-convert\" onclick=\"convertToInteractive('df-585b3de1-c034-48ec-80f4-f97fe1e5b64c')\"\n",
              "              title=\"Convert this dataframe to an interactive table.\"\n",
              "              style=\"display:none;\">\n",
              "        \n",
              "  <svg xmlns=\"http://www.w3.org/2000/svg\" height=\"24px\"viewBox=\"0 0 24 24\"\n",
              "       width=\"24px\">\n",
              "    <path d=\"M0 0h24v24H0V0z\" fill=\"none\"/>\n",
              "    <path d=\"M18.56 5.44l.94 2.06.94-2.06 2.06-.94-2.06-.94-.94-2.06-.94 2.06-2.06.94zm-11 1L8.5 8.5l.94-2.06 2.06-.94-2.06-.94L8.5 2.5l-.94 2.06-2.06.94zm10 10l.94 2.06.94-2.06 2.06-.94-2.06-.94-.94-2.06-.94 2.06-2.06.94z\"/><path d=\"M17.41 7.96l-1.37-1.37c-.4-.4-.92-.59-1.43-.59-.52 0-1.04.2-1.43.59L10.3 9.45l-7.72 7.72c-.78.78-.78 2.05 0 2.83L4 21.41c.39.39.9.59 1.41.59.51 0 1.02-.2 1.41-.59l7.78-7.78 2.81-2.81c.8-.78.8-2.07 0-2.86zM5.41 20L4 18.59l7.72-7.72 1.47 1.35L5.41 20z\"/>\n",
              "  </svg>\n",
              "      </button>\n",
              "      \n",
              "  <style>\n",
              "    .colab-df-container {\n",
              "      display:flex;\n",
              "      flex-wrap:wrap;\n",
              "      gap: 12px;\n",
              "    }\n",
              "\n",
              "    .colab-df-convert {\n",
              "      background-color: #E8F0FE;\n",
              "      border: none;\n",
              "      border-radius: 50%;\n",
              "      cursor: pointer;\n",
              "      display: none;\n",
              "      fill: #1967D2;\n",
              "      height: 32px;\n",
              "      padding: 0 0 0 0;\n",
              "      width: 32px;\n",
              "    }\n",
              "\n",
              "    .colab-df-convert:hover {\n",
              "      background-color: #E2EBFA;\n",
              "      box-shadow: 0px 1px 2px rgba(60, 64, 67, 0.3), 0px 1px 3px 1px rgba(60, 64, 67, 0.15);\n",
              "      fill: #174EA6;\n",
              "    }\n",
              "\n",
              "    [theme=dark] .colab-df-convert {\n",
              "      background-color: #3B4455;\n",
              "      fill: #D2E3FC;\n",
              "    }\n",
              "\n",
              "    [theme=dark] .colab-df-convert:hover {\n",
              "      background-color: #434B5C;\n",
              "      box-shadow: 0px 1px 3px 1px rgba(0, 0, 0, 0.15);\n",
              "      filter: drop-shadow(0px 1px 2px rgba(0, 0, 0, 0.3));\n",
              "      fill: #FFFFFF;\n",
              "    }\n",
              "  </style>\n",
              "\n",
              "      <script>\n",
              "        const buttonEl =\n",
              "          document.querySelector('#df-585b3de1-c034-48ec-80f4-f97fe1e5b64c button.colab-df-convert');\n",
              "        buttonEl.style.display =\n",
              "          google.colab.kernel.accessAllowed ? 'block' : 'none';\n",
              "\n",
              "        async function convertToInteractive(key) {\n",
              "          const element = document.querySelector('#df-585b3de1-c034-48ec-80f4-f97fe1e5b64c');\n",
              "          const dataTable =\n",
              "            await google.colab.kernel.invokeFunction('convertToInteractive',\n",
              "                                                     [key], {});\n",
              "          if (!dataTable) return;\n",
              "\n",
              "          const docLinkHtml = 'Like what you see? Visit the ' +\n",
              "            '<a target=\"_blank\" href=https://colab.research.google.com/notebooks/data_table.ipynb>data table notebook</a>'\n",
              "            + ' to learn more about interactive tables.';\n",
              "          element.innerHTML = '';\n",
              "          dataTable['output_type'] = 'display_data';\n",
              "          await google.colab.output.renderOutput(dataTable, element);\n",
              "          const docLink = document.createElement('div');\n",
              "          docLink.innerHTML = docLinkHtml;\n",
              "          element.appendChild(docLink);\n",
              "        }\n",
              "      </script>\n",
              "    </div>\n",
              "  </div>\n",
              "  "
            ]
          },
          "metadata": {},
          "execution_count": 17
        }
      ]
    },
    {
      "cell_type": "code",
      "source": [
        "from sklearn.preprocessing import MinMaxScaler\n",
        "scaler = MinMaxScaler()"
      ],
      "metadata": {
        "id": "-7Jv-KG54BpR"
      },
      "execution_count": 18,
      "outputs": []
    },
    {
      "cell_type": "code",
      "source": [
        "df['ssc_p'] = scaler.fit_transform(df[['ssc_p']])\n",
        "df['hsc_p'] = scaler.fit_transform(df[['hsc_p']])\n",
        "df['degree_p'] = scaler.fit_transform(df[['degree_p']])\n",
        "df['etest_p'] = scaler.fit_transform(df[['etest_p']])\n",
        "df['mba_p'] = scaler.fit_transform(df[['mba_p']])\n",
        "df['salary'] = scaler.fit_transform(df[['salary']])"
      ],
      "metadata": {
        "id": "2ohN2nIb4Ejy"
      },
      "execution_count": 19,
      "outputs": []
    },
    {
      "cell_type": "code",
      "source": [
        "df.head()"
      ],
      "metadata": {
        "colab": {
          "base_uri": "https://localhost:8080/",
          "height": 317
        },
        "id": "QUvDceMv5t6n",
        "outputId": "67e208ad-20f7-458f-9c2d-cd3bc3b18b3f"
      },
      "execution_count": 20,
      "outputs": [
        {
          "output_type": "execute_result",
          "data": {
            "text/plain": [
              "   sl_no     ssc_p     hsc_p  degree_p   etest_p     mba_p      status  \\\n",
              "0      1  0.538240  0.889621  0.195122  0.104167  0.284483      Placed   \n",
              "1      2  0.792414  0.680890  0.670244  0.760417  0.564843      Placed   \n",
              "2      3  0.497011  0.510708  0.341463  0.520833  0.247001      Placed   \n",
              "3      4  0.311482  0.247117  0.048780  0.333333  0.308096  Not Placed   \n",
              "4      5  0.925788  0.602965  0.568293  0.975000  0.160795      Placed   \n",
              "\n",
              "     salary  gender_F  gender_M  ...  hsc_s_Arts  hsc_s_Commerce  \\\n",
              "0  0.287234         0         1  ...           0               1   \n",
              "1  0.212766         0         1  ...           0               0   \n",
              "2  0.265957         0         1  ...           1               0   \n",
              "3  0.000000         0         1  ...           0               0   \n",
              "4  0.452128         0         1  ...           0               1   \n",
              "\n",
              "   hsc_s_Science  degree_t_Comm&Mgmt  degree_t_Others  degree_t_Sci&Tech  \\\n",
              "0              0                   0                0                  1   \n",
              "1              1                   0                0                  1   \n",
              "2              0                   1                0                  0   \n",
              "3              1                   0                0                  1   \n",
              "4              0                   1                0                  0   \n",
              "\n",
              "   specialisation_Mkt&Fin  specialisation_Mkt&HR  workex_No  workex_Yes  \n",
              "0                       0                      1          1           0  \n",
              "1                       1                      0          0           1  \n",
              "2                       1                      0          1           0  \n",
              "3                       0                      1          1           0  \n",
              "4                       1                      0          1           0  \n",
              "\n",
              "[5 rows x 24 columns]"
            ],
            "text/html": [
              "\n",
              "  <div id=\"df-b5fac61a-4ef6-4e65-a7c0-831679abb726\">\n",
              "    <div class=\"colab-df-container\">\n",
              "      <div>\n",
              "<style scoped>\n",
              "    .dataframe tbody tr th:only-of-type {\n",
              "        vertical-align: middle;\n",
              "    }\n",
              "\n",
              "    .dataframe tbody tr th {\n",
              "        vertical-align: top;\n",
              "    }\n",
              "\n",
              "    .dataframe thead th {\n",
              "        text-align: right;\n",
              "    }\n",
              "</style>\n",
              "<table border=\"1\" class=\"dataframe\">\n",
              "  <thead>\n",
              "    <tr style=\"text-align: right;\">\n",
              "      <th></th>\n",
              "      <th>sl_no</th>\n",
              "      <th>ssc_p</th>\n",
              "      <th>hsc_p</th>\n",
              "      <th>degree_p</th>\n",
              "      <th>etest_p</th>\n",
              "      <th>mba_p</th>\n",
              "      <th>status</th>\n",
              "      <th>salary</th>\n",
              "      <th>gender_F</th>\n",
              "      <th>gender_M</th>\n",
              "      <th>...</th>\n",
              "      <th>hsc_s_Arts</th>\n",
              "      <th>hsc_s_Commerce</th>\n",
              "      <th>hsc_s_Science</th>\n",
              "      <th>degree_t_Comm&amp;Mgmt</th>\n",
              "      <th>degree_t_Others</th>\n",
              "      <th>degree_t_Sci&amp;Tech</th>\n",
              "      <th>specialisation_Mkt&amp;Fin</th>\n",
              "      <th>specialisation_Mkt&amp;HR</th>\n",
              "      <th>workex_No</th>\n",
              "      <th>workex_Yes</th>\n",
              "    </tr>\n",
              "  </thead>\n",
              "  <tbody>\n",
              "    <tr>\n",
              "      <th>0</th>\n",
              "      <td>1</td>\n",
              "      <td>0.538240</td>\n",
              "      <td>0.889621</td>\n",
              "      <td>0.195122</td>\n",
              "      <td>0.104167</td>\n",
              "      <td>0.284483</td>\n",
              "      <td>Placed</td>\n",
              "      <td>0.287234</td>\n",
              "      <td>0</td>\n",
              "      <td>1</td>\n",
              "      <td>...</td>\n",
              "      <td>0</td>\n",
              "      <td>1</td>\n",
              "      <td>0</td>\n",
              "      <td>0</td>\n",
              "      <td>0</td>\n",
              "      <td>1</td>\n",
              "      <td>0</td>\n",
              "      <td>1</td>\n",
              "      <td>1</td>\n",
              "      <td>0</td>\n",
              "    </tr>\n",
              "    <tr>\n",
              "      <th>1</th>\n",
              "      <td>2</td>\n",
              "      <td>0.792414</td>\n",
              "      <td>0.680890</td>\n",
              "      <td>0.670244</td>\n",
              "      <td>0.760417</td>\n",
              "      <td>0.564843</td>\n",
              "      <td>Placed</td>\n",
              "      <td>0.212766</td>\n",
              "      <td>0</td>\n",
              "      <td>1</td>\n",
              "      <td>...</td>\n",
              "      <td>0</td>\n",
              "      <td>0</td>\n",
              "      <td>1</td>\n",
              "      <td>0</td>\n",
              "      <td>0</td>\n",
              "      <td>1</td>\n",
              "      <td>1</td>\n",
              "      <td>0</td>\n",
              "      <td>0</td>\n",
              "      <td>1</td>\n",
              "    </tr>\n",
              "    <tr>\n",
              "      <th>2</th>\n",
              "      <td>3</td>\n",
              "      <td>0.497011</td>\n",
              "      <td>0.510708</td>\n",
              "      <td>0.341463</td>\n",
              "      <td>0.520833</td>\n",
              "      <td>0.247001</td>\n",
              "      <td>Placed</td>\n",
              "      <td>0.265957</td>\n",
              "      <td>0</td>\n",
              "      <td>1</td>\n",
              "      <td>...</td>\n",
              "      <td>1</td>\n",
              "      <td>0</td>\n",
              "      <td>0</td>\n",
              "      <td>1</td>\n",
              "      <td>0</td>\n",
              "      <td>0</td>\n",
              "      <td>1</td>\n",
              "      <td>0</td>\n",
              "      <td>1</td>\n",
              "      <td>0</td>\n",
              "    </tr>\n",
              "    <tr>\n",
              "      <th>3</th>\n",
              "      <td>4</td>\n",
              "      <td>0.311482</td>\n",
              "      <td>0.247117</td>\n",
              "      <td>0.048780</td>\n",
              "      <td>0.333333</td>\n",
              "      <td>0.308096</td>\n",
              "      <td>Not Placed</td>\n",
              "      <td>0.000000</td>\n",
              "      <td>0</td>\n",
              "      <td>1</td>\n",
              "      <td>...</td>\n",
              "      <td>0</td>\n",
              "      <td>0</td>\n",
              "      <td>1</td>\n",
              "      <td>0</td>\n",
              "      <td>0</td>\n",
              "      <td>1</td>\n",
              "      <td>0</td>\n",
              "      <td>1</td>\n",
              "      <td>1</td>\n",
              "      <td>0</td>\n",
              "    </tr>\n",
              "    <tr>\n",
              "      <th>4</th>\n",
              "      <td>5</td>\n",
              "      <td>0.925788</td>\n",
              "      <td>0.602965</td>\n",
              "      <td>0.568293</td>\n",
              "      <td>0.975000</td>\n",
              "      <td>0.160795</td>\n",
              "      <td>Placed</td>\n",
              "      <td>0.452128</td>\n",
              "      <td>0</td>\n",
              "      <td>1</td>\n",
              "      <td>...</td>\n",
              "      <td>0</td>\n",
              "      <td>1</td>\n",
              "      <td>0</td>\n",
              "      <td>1</td>\n",
              "      <td>0</td>\n",
              "      <td>0</td>\n",
              "      <td>1</td>\n",
              "      <td>0</td>\n",
              "      <td>1</td>\n",
              "      <td>0</td>\n",
              "    </tr>\n",
              "  </tbody>\n",
              "</table>\n",
              "<p>5 rows × 24 columns</p>\n",
              "</div>\n",
              "      <button class=\"colab-df-convert\" onclick=\"convertToInteractive('df-b5fac61a-4ef6-4e65-a7c0-831679abb726')\"\n",
              "              title=\"Convert this dataframe to an interactive table.\"\n",
              "              style=\"display:none;\">\n",
              "        \n",
              "  <svg xmlns=\"http://www.w3.org/2000/svg\" height=\"24px\"viewBox=\"0 0 24 24\"\n",
              "       width=\"24px\">\n",
              "    <path d=\"M0 0h24v24H0V0z\" fill=\"none\"/>\n",
              "    <path d=\"M18.56 5.44l.94 2.06.94-2.06 2.06-.94-2.06-.94-.94-2.06-.94 2.06-2.06.94zm-11 1L8.5 8.5l.94-2.06 2.06-.94-2.06-.94L8.5 2.5l-.94 2.06-2.06.94zm10 10l.94 2.06.94-2.06 2.06-.94-2.06-.94-.94-2.06-.94 2.06-2.06.94z\"/><path d=\"M17.41 7.96l-1.37-1.37c-.4-.4-.92-.59-1.43-.59-.52 0-1.04.2-1.43.59L10.3 9.45l-7.72 7.72c-.78.78-.78 2.05 0 2.83L4 21.41c.39.39.9.59 1.41.59.51 0 1.02-.2 1.41-.59l7.78-7.78 2.81-2.81c.8-.78.8-2.07 0-2.86zM5.41 20L4 18.59l7.72-7.72 1.47 1.35L5.41 20z\"/>\n",
              "  </svg>\n",
              "      </button>\n",
              "      \n",
              "  <style>\n",
              "    .colab-df-container {\n",
              "      display:flex;\n",
              "      flex-wrap:wrap;\n",
              "      gap: 12px;\n",
              "    }\n",
              "\n",
              "    .colab-df-convert {\n",
              "      background-color: #E8F0FE;\n",
              "      border: none;\n",
              "      border-radius: 50%;\n",
              "      cursor: pointer;\n",
              "      display: none;\n",
              "      fill: #1967D2;\n",
              "      height: 32px;\n",
              "      padding: 0 0 0 0;\n",
              "      width: 32px;\n",
              "    }\n",
              "\n",
              "    .colab-df-convert:hover {\n",
              "      background-color: #E2EBFA;\n",
              "      box-shadow: 0px 1px 2px rgba(60, 64, 67, 0.3), 0px 1px 3px 1px rgba(60, 64, 67, 0.15);\n",
              "      fill: #174EA6;\n",
              "    }\n",
              "\n",
              "    [theme=dark] .colab-df-convert {\n",
              "      background-color: #3B4455;\n",
              "      fill: #D2E3FC;\n",
              "    }\n",
              "\n",
              "    [theme=dark] .colab-df-convert:hover {\n",
              "      background-color: #434B5C;\n",
              "      box-shadow: 0px 1px 3px 1px rgba(0, 0, 0, 0.15);\n",
              "      filter: drop-shadow(0px 1px 2px rgba(0, 0, 0, 0.3));\n",
              "      fill: #FFFFFF;\n",
              "    }\n",
              "  </style>\n",
              "\n",
              "      <script>\n",
              "        const buttonEl =\n",
              "          document.querySelector('#df-b5fac61a-4ef6-4e65-a7c0-831679abb726 button.colab-df-convert');\n",
              "        buttonEl.style.display =\n",
              "          google.colab.kernel.accessAllowed ? 'block' : 'none';\n",
              "\n",
              "        async function convertToInteractive(key) {\n",
              "          const element = document.querySelector('#df-b5fac61a-4ef6-4e65-a7c0-831679abb726');\n",
              "          const dataTable =\n",
              "            await google.colab.kernel.invokeFunction('convertToInteractive',\n",
              "                                                     [key], {});\n",
              "          if (!dataTable) return;\n",
              "\n",
              "          const docLinkHtml = 'Like what you see? Visit the ' +\n",
              "            '<a target=\"_blank\" href=https://colab.research.google.com/notebooks/data_table.ipynb>data table notebook</a>'\n",
              "            + ' to learn more about interactive tables.';\n",
              "          element.innerHTML = '';\n",
              "          dataTable['output_type'] = 'display_data';\n",
              "          await google.colab.output.renderOutput(dataTable, element);\n",
              "          const docLink = document.createElement('div');\n",
              "          docLink.innerHTML = docLinkHtml;\n",
              "          element.appendChild(docLink);\n",
              "        }\n",
              "      </script>\n",
              "    </div>\n",
              "  </div>\n",
              "  "
            ]
          },
          "metadata": {},
          "execution_count": 20
        }
      ]
    },
    {
      "cell_type": "code",
      "source": [
        "X = df.iloc[:, df.columns != 'status']"
      ],
      "metadata": {
        "id": "WysyObxqjeVn"
      },
      "execution_count": 21,
      "outputs": []
    },
    {
      "cell_type": "code",
      "source": [
        "df['status'] = df['status'].astype('category').cat.codes"
      ],
      "metadata": {
        "id": "dOQWdKWHzPPm"
      },
      "execution_count": 22,
      "outputs": []
    },
    {
      "cell_type": "code",
      "source": [
        "y = df['status']"
      ],
      "metadata": {
        "id": "XCHmSXFF13Pg"
      },
      "execution_count": 23,
      "outputs": []
    },
    {
      "cell_type": "code",
      "source": [
        "df.head()"
      ],
      "metadata": {
        "id": "K88A27auSJ9X",
        "outputId": "ab6a47ca-5187-4d9b-a5fe-b732c0b4b6b6",
        "colab": {
          "base_uri": "https://localhost:8080/",
          "height": 300
        }
      },
      "execution_count": 24,
      "outputs": [
        {
          "output_type": "execute_result",
          "data": {
            "text/plain": [
              "   sl_no     ssc_p     hsc_p  degree_p   etest_p     mba_p  status    salary  \\\n",
              "0      1  0.538240  0.889621  0.195122  0.104167  0.284483       1  0.287234   \n",
              "1      2  0.792414  0.680890  0.670244  0.760417  0.564843       1  0.212766   \n",
              "2      3  0.497011  0.510708  0.341463  0.520833  0.247001       1  0.265957   \n",
              "3      4  0.311482  0.247117  0.048780  0.333333  0.308096       0  0.000000   \n",
              "4      5  0.925788  0.602965  0.568293  0.975000  0.160795       1  0.452128   \n",
              "\n",
              "   gender_F  gender_M  ...  hsc_s_Arts  hsc_s_Commerce  hsc_s_Science  \\\n",
              "0         0         1  ...           0               1              0   \n",
              "1         0         1  ...           0               0              1   \n",
              "2         0         1  ...           1               0              0   \n",
              "3         0         1  ...           0               0              1   \n",
              "4         0         1  ...           0               1              0   \n",
              "\n",
              "   degree_t_Comm&Mgmt  degree_t_Others  degree_t_Sci&Tech  \\\n",
              "0                   0                0                  1   \n",
              "1                   0                0                  1   \n",
              "2                   1                0                  0   \n",
              "3                   0                0                  1   \n",
              "4                   1                0                  0   \n",
              "\n",
              "   specialisation_Mkt&Fin  specialisation_Mkt&HR  workex_No  workex_Yes  \n",
              "0                       0                      1          1           0  \n",
              "1                       1                      0          0           1  \n",
              "2                       1                      0          1           0  \n",
              "3                       0                      1          1           0  \n",
              "4                       1                      0          1           0  \n",
              "\n",
              "[5 rows x 24 columns]"
            ],
            "text/html": [
              "\n",
              "  <div id=\"df-db229367-082a-4f7f-a0a8-d5eccf5f05d4\">\n",
              "    <div class=\"colab-df-container\">\n",
              "      <div>\n",
              "<style scoped>\n",
              "    .dataframe tbody tr th:only-of-type {\n",
              "        vertical-align: middle;\n",
              "    }\n",
              "\n",
              "    .dataframe tbody tr th {\n",
              "        vertical-align: top;\n",
              "    }\n",
              "\n",
              "    .dataframe thead th {\n",
              "        text-align: right;\n",
              "    }\n",
              "</style>\n",
              "<table border=\"1\" class=\"dataframe\">\n",
              "  <thead>\n",
              "    <tr style=\"text-align: right;\">\n",
              "      <th></th>\n",
              "      <th>sl_no</th>\n",
              "      <th>ssc_p</th>\n",
              "      <th>hsc_p</th>\n",
              "      <th>degree_p</th>\n",
              "      <th>etest_p</th>\n",
              "      <th>mba_p</th>\n",
              "      <th>status</th>\n",
              "      <th>salary</th>\n",
              "      <th>gender_F</th>\n",
              "      <th>gender_M</th>\n",
              "      <th>...</th>\n",
              "      <th>hsc_s_Arts</th>\n",
              "      <th>hsc_s_Commerce</th>\n",
              "      <th>hsc_s_Science</th>\n",
              "      <th>degree_t_Comm&amp;Mgmt</th>\n",
              "      <th>degree_t_Others</th>\n",
              "      <th>degree_t_Sci&amp;Tech</th>\n",
              "      <th>specialisation_Mkt&amp;Fin</th>\n",
              "      <th>specialisation_Mkt&amp;HR</th>\n",
              "      <th>workex_No</th>\n",
              "      <th>workex_Yes</th>\n",
              "    </tr>\n",
              "  </thead>\n",
              "  <tbody>\n",
              "    <tr>\n",
              "      <th>0</th>\n",
              "      <td>1</td>\n",
              "      <td>0.538240</td>\n",
              "      <td>0.889621</td>\n",
              "      <td>0.195122</td>\n",
              "      <td>0.104167</td>\n",
              "      <td>0.284483</td>\n",
              "      <td>1</td>\n",
              "      <td>0.287234</td>\n",
              "      <td>0</td>\n",
              "      <td>1</td>\n",
              "      <td>...</td>\n",
              "      <td>0</td>\n",
              "      <td>1</td>\n",
              "      <td>0</td>\n",
              "      <td>0</td>\n",
              "      <td>0</td>\n",
              "      <td>1</td>\n",
              "      <td>0</td>\n",
              "      <td>1</td>\n",
              "      <td>1</td>\n",
              "      <td>0</td>\n",
              "    </tr>\n",
              "    <tr>\n",
              "      <th>1</th>\n",
              "      <td>2</td>\n",
              "      <td>0.792414</td>\n",
              "      <td>0.680890</td>\n",
              "      <td>0.670244</td>\n",
              "      <td>0.760417</td>\n",
              "      <td>0.564843</td>\n",
              "      <td>1</td>\n",
              "      <td>0.212766</td>\n",
              "      <td>0</td>\n",
              "      <td>1</td>\n",
              "      <td>...</td>\n",
              "      <td>0</td>\n",
              "      <td>0</td>\n",
              "      <td>1</td>\n",
              "      <td>0</td>\n",
              "      <td>0</td>\n",
              "      <td>1</td>\n",
              "      <td>1</td>\n",
              "      <td>0</td>\n",
              "      <td>0</td>\n",
              "      <td>1</td>\n",
              "    </tr>\n",
              "    <tr>\n",
              "      <th>2</th>\n",
              "      <td>3</td>\n",
              "      <td>0.497011</td>\n",
              "      <td>0.510708</td>\n",
              "      <td>0.341463</td>\n",
              "      <td>0.520833</td>\n",
              "      <td>0.247001</td>\n",
              "      <td>1</td>\n",
              "      <td>0.265957</td>\n",
              "      <td>0</td>\n",
              "      <td>1</td>\n",
              "      <td>...</td>\n",
              "      <td>1</td>\n",
              "      <td>0</td>\n",
              "      <td>0</td>\n",
              "      <td>1</td>\n",
              "      <td>0</td>\n",
              "      <td>0</td>\n",
              "      <td>1</td>\n",
              "      <td>0</td>\n",
              "      <td>1</td>\n",
              "      <td>0</td>\n",
              "    </tr>\n",
              "    <tr>\n",
              "      <th>3</th>\n",
              "      <td>4</td>\n",
              "      <td>0.311482</td>\n",
              "      <td>0.247117</td>\n",
              "      <td>0.048780</td>\n",
              "      <td>0.333333</td>\n",
              "      <td>0.308096</td>\n",
              "      <td>0</td>\n",
              "      <td>0.000000</td>\n",
              "      <td>0</td>\n",
              "      <td>1</td>\n",
              "      <td>...</td>\n",
              "      <td>0</td>\n",
              "      <td>0</td>\n",
              "      <td>1</td>\n",
              "      <td>0</td>\n",
              "      <td>0</td>\n",
              "      <td>1</td>\n",
              "      <td>0</td>\n",
              "      <td>1</td>\n",
              "      <td>1</td>\n",
              "      <td>0</td>\n",
              "    </tr>\n",
              "    <tr>\n",
              "      <th>4</th>\n",
              "      <td>5</td>\n",
              "      <td>0.925788</td>\n",
              "      <td>0.602965</td>\n",
              "      <td>0.568293</td>\n",
              "      <td>0.975000</td>\n",
              "      <td>0.160795</td>\n",
              "      <td>1</td>\n",
              "      <td>0.452128</td>\n",
              "      <td>0</td>\n",
              "      <td>1</td>\n",
              "      <td>...</td>\n",
              "      <td>0</td>\n",
              "      <td>1</td>\n",
              "      <td>0</td>\n",
              "      <td>1</td>\n",
              "      <td>0</td>\n",
              "      <td>0</td>\n",
              "      <td>1</td>\n",
              "      <td>0</td>\n",
              "      <td>1</td>\n",
              "      <td>0</td>\n",
              "    </tr>\n",
              "  </tbody>\n",
              "</table>\n",
              "<p>5 rows × 24 columns</p>\n",
              "</div>\n",
              "      <button class=\"colab-df-convert\" onclick=\"convertToInteractive('df-db229367-082a-4f7f-a0a8-d5eccf5f05d4')\"\n",
              "              title=\"Convert this dataframe to an interactive table.\"\n",
              "              style=\"display:none;\">\n",
              "        \n",
              "  <svg xmlns=\"http://www.w3.org/2000/svg\" height=\"24px\"viewBox=\"0 0 24 24\"\n",
              "       width=\"24px\">\n",
              "    <path d=\"M0 0h24v24H0V0z\" fill=\"none\"/>\n",
              "    <path d=\"M18.56 5.44l.94 2.06.94-2.06 2.06-.94-2.06-.94-.94-2.06-.94 2.06-2.06.94zm-11 1L8.5 8.5l.94-2.06 2.06-.94-2.06-.94L8.5 2.5l-.94 2.06-2.06.94zm10 10l.94 2.06.94-2.06 2.06-.94-2.06-.94-.94-2.06-.94 2.06-2.06.94z\"/><path d=\"M17.41 7.96l-1.37-1.37c-.4-.4-.92-.59-1.43-.59-.52 0-1.04.2-1.43.59L10.3 9.45l-7.72 7.72c-.78.78-.78 2.05 0 2.83L4 21.41c.39.39.9.59 1.41.59.51 0 1.02-.2 1.41-.59l7.78-7.78 2.81-2.81c.8-.78.8-2.07 0-2.86zM5.41 20L4 18.59l7.72-7.72 1.47 1.35L5.41 20z\"/>\n",
              "  </svg>\n",
              "      </button>\n",
              "      \n",
              "  <style>\n",
              "    .colab-df-container {\n",
              "      display:flex;\n",
              "      flex-wrap:wrap;\n",
              "      gap: 12px;\n",
              "    }\n",
              "\n",
              "    .colab-df-convert {\n",
              "      background-color: #E8F0FE;\n",
              "      border: none;\n",
              "      border-radius: 50%;\n",
              "      cursor: pointer;\n",
              "      display: none;\n",
              "      fill: #1967D2;\n",
              "      height: 32px;\n",
              "      padding: 0 0 0 0;\n",
              "      width: 32px;\n",
              "    }\n",
              "\n",
              "    .colab-df-convert:hover {\n",
              "      background-color: #E2EBFA;\n",
              "      box-shadow: 0px 1px 2px rgba(60, 64, 67, 0.3), 0px 1px 3px 1px rgba(60, 64, 67, 0.15);\n",
              "      fill: #174EA6;\n",
              "    }\n",
              "\n",
              "    [theme=dark] .colab-df-convert {\n",
              "      background-color: #3B4455;\n",
              "      fill: #D2E3FC;\n",
              "    }\n",
              "\n",
              "    [theme=dark] .colab-df-convert:hover {\n",
              "      background-color: #434B5C;\n",
              "      box-shadow: 0px 1px 3px 1px rgba(0, 0, 0, 0.15);\n",
              "      filter: drop-shadow(0px 1px 2px rgba(0, 0, 0, 0.3));\n",
              "      fill: #FFFFFF;\n",
              "    }\n",
              "  </style>\n",
              "\n",
              "      <script>\n",
              "        const buttonEl =\n",
              "          document.querySelector('#df-db229367-082a-4f7f-a0a8-d5eccf5f05d4 button.colab-df-convert');\n",
              "        buttonEl.style.display =\n",
              "          google.colab.kernel.accessAllowed ? 'block' : 'none';\n",
              "\n",
              "        async function convertToInteractive(key) {\n",
              "          const element = document.querySelector('#df-db229367-082a-4f7f-a0a8-d5eccf5f05d4');\n",
              "          const dataTable =\n",
              "            await google.colab.kernel.invokeFunction('convertToInteractive',\n",
              "                                                     [key], {});\n",
              "          if (!dataTable) return;\n",
              "\n",
              "          const docLinkHtml = 'Like what you see? Visit the ' +\n",
              "            '<a target=\"_blank\" href=https://colab.research.google.com/notebooks/data_table.ipynb>data table notebook</a>'\n",
              "            + ' to learn more about interactive tables.';\n",
              "          element.innerHTML = '';\n",
              "          dataTable['output_type'] = 'display_data';\n",
              "          await google.colab.output.renderOutput(dataTable, element);\n",
              "          const docLink = document.createElement('div');\n",
              "          docLink.innerHTML = docLinkHtml;\n",
              "          element.appendChild(docLink);\n",
              "        }\n",
              "      </script>\n",
              "    </div>\n",
              "  </div>\n",
              "  "
            ]
          },
          "metadata": {},
          "execution_count": 24
        }
      ]
    },
    {
      "cell_type": "code",
      "source": [
        "# Perform Feature Selection with Categorical Data\n",
        "# Chi-Squared Feature Selection\n",
        "from sklearn.feature_selection import SelectKBest, chi2\n",
        "\n",
        "X = df.iloc[:, df.columns != 'status']\n",
        "print(\"Before feature selection\", X.shape)\n",
        "\n",
        "X_new = SelectKBest(chi2, k=18).fit_transform(X, df['status'].to_numpy())\n",
        "print(\"After the selection\", X_new.shape)\n"
      ],
      "metadata": {
        "id": "56J4j0CKEMaL",
        "outputId": "f18f70c1-86a4-4812-c338-74aef143e17b",
        "colab": {
          "base_uri": "https://localhost:8080/"
        }
      },
      "execution_count": 25,
      "outputs": [
        {
          "output_type": "stream",
          "name": "stdout",
          "text": [
            "Before feature selection (215, 23)\n",
            "After the selection (215, 18)\n"
          ]
        }
      ]
    },
    {
      "cell_type": "markdown",
      "source": [
        "# Modeling (we will visit modeling part more after midterm.)"
      ],
      "metadata": {
        "id": "bkz-dLrP705U"
      }
    },
    {
      "cell_type": "code",
      "source": [
        "from sklearn.model_selection import train_test_split\n",
        "X_train, X_test, y_train, y_test = train_test_split(X, y,test_size=0.2,random_state=0)\n",
        "X_train.shape, X_test.shape, y_train.shape, y_test.shape"
      ],
      "metadata": {
        "colab": {
          "base_uri": "https://localhost:8080/"
        },
        "id": "l7_lPJ05i-a8",
        "outputId": "bb4aabf0-fbef-4b1d-867a-44633c59847e"
      },
      "execution_count": 26,
      "outputs": [
        {
          "output_type": "execute_result",
          "data": {
            "text/plain": [
              "((172, 23), (43, 23), (172,), (43,))"
            ]
          },
          "metadata": {},
          "execution_count": 26
        }
      ]
    },
    {
      "cell_type": "code",
      "source": [
        "from sklearn.neighbors import KNeighborsClassifier\n",
        "clf = KNeighborsClassifier(n_neighbors=3) # don't worry about parems here for now\n",
        "clf.fit(X_train, y_train) # you need to make sure you understand what to put here, we use the training set"
      ],
      "metadata": {
        "colab": {
          "base_uri": "https://localhost:8080/"
        },
        "id": "aDxhRSyO2CYB",
        "outputId": "ff1f595a-f240-435f-814f-241faed5eca3"
      },
      "execution_count": 27,
      "outputs": [
        {
          "output_type": "execute_result",
          "data": {
            "text/plain": [
              "KNeighborsClassifier(n_neighbors=3)"
            ]
          },
          "metadata": {},
          "execution_count": 27
        }
      ]
    },
    {
      "cell_type": "markdown",
      "source": [
        "# Evaluation and intrepret the results"
      ],
      "metadata": {
        "id": "WOqPOGmM8BFP"
      }
    },
    {
      "cell_type": "code",
      "source": [
        "y_pred = clf.predict(X_test)"
      ],
      "metadata": {
        "id": "c0c-IV0Y6oAk"
      },
      "execution_count": 48,
      "outputs": []
    },
    {
      "cell_type": "code",
      "source": [
        "#Import scikit-learn metrics module for accuracy calculation\n",
        "from sklearn import metrics\n",
        "print(\"Accuracy:\", metrics.accuracy_score(y_test, y_pred))"
      ],
      "metadata": {
        "colab": {
          "base_uri": "https://localhost:8080/"
        },
        "id": "CO_JzzCW6pEL",
        "outputId": "55aad55c-b0e8-420a-bfac-837b6c324445"
      },
      "execution_count": 49,
      "outputs": [
        {
          "output_type": "stream",
          "name": "stdout",
          "text": [
            "Accuracy: 0.627906976744186\n"
          ]
        }
      ]
    },
    {
      "cell_type": "code",
      "source": [
        "# let take futher step by explore the confusion matrix\n",
        "from sklearn.metrics import confusion_matrix\n",
        "cm = confusion_matrix(y_test,y_pred)\n",
        "cm"
      ],
      "metadata": {
        "colab": {
          "base_uri": "https://localhost:8080/"
        },
        "id": "IMw8FeBD6qZt",
        "outputId": "b61bf6a3-fdd0-4be7-e399-0064bbca6576"
      },
      "execution_count": 50,
      "outputs": [
        {
          "output_type": "execute_result",
          "data": {
            "text/plain": [
              "array([[ 4, 12],\n",
              "       [ 4, 23]])"
            ]
          },
          "metadata": {},
          "execution_count": 50
        }
      ]
    },
    {
      "cell_type": "code",
      "source": [
        "# Try with new selected feature and put everything together\n",
        "X_train, X_test, y_train, y_test = train_test_split(X_new, y,test_size=0.2,random_state=0)\n",
        "X_train.shape, X_test.shape, y_train.shape, y_test.shape\n",
        "clf = KNeighborsClassifier(n_neighbors=3) \n",
        "clf.fit(X_train, y_train) \n",
        "y_pred = clf.predict(X_test)\n",
        "print(\"Accuracy:\",metrics.accuracy_score(y_test, y_pred))\n",
        "cm = confusion_matrix(y_test,y_pred)\n",
        "cm"
      ],
      "metadata": {
        "id": "706euuKmHnQf",
        "outputId": "2797add9-4018-4118-fc37-b0279879cf21",
        "colab": {
          "base_uri": "https://localhost:8080/"
        }
      },
      "execution_count": 51,
      "outputs": [
        {
          "output_type": "stream",
          "name": "stdout",
          "text": [
            "Accuracy: 0.627906976744186\n"
          ]
        },
        {
          "output_type": "execute_result",
          "data": {
            "text/plain": [
              "array([[ 4, 12],\n",
              "       [ 4, 23]])"
            ]
          },
          "metadata": {},
          "execution_count": 51
        }
      ]
    },
    {
      "cell_type": "code",
      "source": [
        "# the above matrix looks pretty ugly, lets decorate it!\n",
        "from sklearn.metrics import plot_confusion_matrix\n",
        " \n",
        "color = 'white'\n",
        "matrix = plot_confusion_matrix(clf, X_test, y_test, cmap=plt.cm.Blues)\n",
        "matrix.ax_.set_title('Confusion Matrix', color=color)\n",
        "plt.xlabel('Predicted Label', color=color)\n",
        "plt.ylabel('True Label', color=color)\n",
        "plt.gcf().axes[0].tick_params(colors=color)\n",
        "plt.gcf().axes[1].tick_params(colors=color)\n",
        "plt.show()"
      ],
      "metadata": {
        "colab": {
          "base_uri": "https://localhost:8080/",
          "height": 356
        },
        "id": "ub53YWJG69qd",
        "outputId": "84253ffb-5634-43cd-ea8e-d378f2d4ee25"
      },
      "execution_count": 52,
      "outputs": [
        {
          "output_type": "stream",
          "name": "stderr",
          "text": [
            "/usr/local/lib/python3.7/dist-packages/sklearn/utils/deprecation.py:87: FutureWarning: Function plot_confusion_matrix is deprecated; Function `plot_confusion_matrix` is deprecated in 1.0 and will be removed in 1.2. Use one of the class methods: ConfusionMatrixDisplay.from_predictions or ConfusionMatrixDisplay.from_estimator.\n",
            "  warnings.warn(msg, category=FutureWarning)\n"
          ]
        },
        {
          "output_type": "display_data",
          "data": {
            "text/plain": [
              "<Figure size 432x288 with 2 Axes>"
            ],
            "image/png": "[encoded data removed]"
          },
          "metadata": {}
        }
      ]
    },
    {
      "cell_type": "code",
      "source": [
        "# here are advanced metrix you can use to explore the performance of your classifier. (we will learn it after midterm.)\n",
        "from sklearn.metrics import classification_report\n",
        "print(\"Test set acc.\", classification_report(y_test, y_pred))"
      ],
      "metadata": {
        "colab": {
          "base_uri": "https://localhost:8080/"
        },
        "id": "ctNl3luU7BQ4",
        "outputId": "e5250ed5-60e6-491c-996b-acb00cf0d050"
      },
      "execution_count": 53,
      "outputs": [
        {
          "output_type": "stream",
          "name": "stdout",
          "text": [
            "Test set acc.               precision    recall  f1-score   support\n",
            "\n",
            "           0       0.50      0.25      0.33        16\n",
            "           1       0.66      0.85      0.74        27\n",
            "\n",
            "    accuracy                           0.63        43\n",
            "   macro avg       0.58      0.55      0.54        43\n",
            "weighted avg       0.60      0.63      0.59        43\n",
            "\n"
          ]
        }
      ]
    },
    {
      "cell_type": "code",
      "source": [
        "# lets tune the model (we haven't learn it yet, but just to let you see the roadmap of ML). lets use basic grid search here.\n",
        "from sklearn.model_selection import GridSearchCV\n",
        "\n",
        "# you can read more about the knn algo. here https://scikit-learn.org/stable/modules/generated/sklearn.neighbors.KNeighborsClassifier.html\n",
        "# you can explore more about grid search here, if you don't quit get, its ok now. you can perform iterative search for one parem.\n",
        "\n",
        "grid_params = { 'n_neighbors' :list(range(1, 30)),\n",
        "               'weights' : ['uniform','distance'],\n",
        "               'metric' : ['minkowski','euclidean','manhattan']}"
      ],
      "metadata": {
        "id": "GRzK-Svm7Jmm"
      },
      "execution_count": 54,
      "outputs": []
    },
    {
      "cell_type": "code",
      "source": [
        "gs = GridSearchCV(KNeighborsClassifier(), grid_params, verbose = 1, cv=10, n_jobs = -1)"
      ],
      "metadata": {
        "id": "4vg90EhE8fjs"
      },
      "execution_count": 55,
      "outputs": []
    },
    {
      "cell_type": "code",
      "source": [
        "clf2 = gs.fit(X_train, y_train)"
      ],
      "metadata": {
        "colab": {
          "base_uri": "https://localhost:8080/"
        },
        "id": "bnF_SrjK8lBX",
        "outputId": "8c9ab80c-8e38-4211-f28d-84b7f5faadec"
      },
      "execution_count": 56,
      "outputs": [
        {
          "output_type": "stream",
          "name": "stdout",
          "text": [
            "Fitting 10 folds for each of 174 candidates, totalling 1740 fits\n"
          ]
        }
      ]
    },
    {
      "cell_type": "code",
      "source": [
        "# find the best score\n",
        "clf2.best_score_"
      ],
      "metadata": {
        "colab": {
          "base_uri": "https://localhost:8080/"
        },
        "id": "TA3txB1g8pei",
        "outputId": "bcb910fa-e521-43a6-d7c7-9d99d42a7969"
      },
      "execution_count": 57,
      "outputs": [
        {
          "output_type": "execute_result",
          "data": {
            "text/plain": [
              "0.7209150326797387"
            ]
          },
          "metadata": {},
          "execution_count": 57
        }
      ]
    },
    {
      "cell_type": "code",
      "source": [
        "clf2.best_params_"
      ],
      "metadata": {
        "colab": {
          "base_uri": "https://localhost:8080/"
        },
        "id": "hhPYmnMW8sd2",
        "outputId": "138777c2-a68f-4d7c-ced4-ab0841abf3dd"
      },
      "execution_count": 58,
      "outputs": [
        {
          "output_type": "execute_result",
          "data": {
            "text/plain": [
              "{'metric': 'manhattan', 'n_neighbors': 16, 'weights': 'uniform'}"
            ]
          },
          "metadata": {},
          "execution_count": 58
        }
      ]
    },
    {
      "cell_type": "code",
      "source": [
        "# now we found the best params, so lets use that for our final model\n",
        "clf_final = KNeighborsClassifier(n_neighbors = 16, weights = 'distance',algorithm = 'brute',metric = 'manhattan')\n",
        "clf_final.fit(X_train, y_train)"
      ],
      "metadata": {
        "colab": {
          "base_uri": "https://localhost:8080/"
        },
        "id": "OjJ9aQs68x6T",
        "outputId": "24f7918a-0795-4831-fd55-9521c3eecfb8"
      },
      "execution_count": 59,
      "outputs": [
        {
          "output_type": "execute_result",
          "data": {
            "text/plain": [
              "KNeighborsClassifier(algorithm='brute', metric='manhattan', n_neighbors=16,\n",
              "                     weights='distance')"
            ]
          },
          "metadata": {},
          "execution_count": 59
        }
      ]
    },
    {
      "cell_type": "code",
      "source": [
        "y_pred = clf_final.predict(X_test)"
      ],
      "metadata": {
        "id": "I4DExu0JJofS"
      },
      "execution_count": 60,
      "outputs": []
    },
    {
      "cell_type": "code",
      "source": [
        "print(\"Accuracy:\",metrics.accuracy_score(y_test, y_pred))"
      ],
      "metadata": {
        "colab": {
          "base_uri": "https://localhost:8080/"
        },
        "id": "pHhirxInJtqo",
        "outputId": "373254b7-44be-46e7-f5b4-4ddd3d1e9f1e"
      },
      "execution_count": 61,
      "outputs": [
        {
          "output_type": "stream",
          "name": "stdout",
          "text": [
            "Accuracy: 0.6744186046511628\n"
          ]
        }
      ]
    },
    {
      "cell_type": "code",
      "source": [
        "cm2 = confusion_matrix(y_test,y_pred)\n",
        "cm2"
      ],
      "metadata": {
        "colab": {
          "base_uri": "https://localhost:8080/"
        },
        "id": "ealaq1m2JyKP",
        "outputId": "7750c215-e7d6-4d51-a620-fd61ce6ada9b"
      },
      "execution_count": 62,
      "outputs": [
        {
          "output_type": "execute_result",
          "data": {
            "text/plain": [
              "array([[ 2, 14],\n",
              "       [ 0, 27]])"
            ]
          },
          "metadata": {},
          "execution_count": 62
        }
      ]
    },
    {
      "cell_type": "code",
      "source": [
        "# I leave my baseline as 65% accuracy here, I know that you guys can do better than me. :)"
      ],
      "metadata": {
        "id": "9GJIiLoYJ3ba"
      },
      "execution_count": 63,
      "outputs": []
    },
    {
      "cell_type": "code",
      "source": [
        "# Experimenting with different k values (linear search)\n",
        "from sklearn.model_selection import cross_val_score\n",
        "import statistics\n",
        "\n",
        "k_range = list(range(1,50))\n",
        "scores_cv = [] # average of k-fold CV\n",
        "scores_test = [] # test acc.\n",
        "models = [] # models\n",
        "\n",
        "for k in k_range: # we loop through 1-50 of number of neightbour here\n",
        "    knn = KNeighborsClassifier(n_neighbors=k, algorithm='brute', metric='manhattan')\n",
        "    # mean CV\n",
        "    scores = cross_val_score(knn, X_train, y_train, cv=5) # another inner loop here\n",
        "    scores_cv.append(statistics.mean(scores))\n",
        "    knn.fit(X_train, y_train) # trainingng\n",
        "\n",
        "    # testing\n",
        "    y_pred_test = knn.predict(X_test)\n",
        "    scores_test.append( metrics.accuracy_score(y_test, y_pred_test) )\n",
        "    models.append(knn)"
      ],
      "metadata": {
        "id": "V_QxgpjvKb7U"
      },
      "execution_count": 64,
      "outputs": []
    },
    {
      "cell_type": "code",
      "source": [
        "\n",
        "plt.plot(k_range, scores_cv, 'b', dashes=[6, 2], label = \"Mean of CV acc.\")\n",
        "plt.plot(k_range, scores_test, 'r', label= \"Test acc.\")\n",
        "plt.legend(bbox_to_anchor=(1.05, 1), loc=2, borderaxespad=0.)\n",
        "plt.xlabel('k value ')\n",
        "plt.ylabel('Accuracy Rate')\n",
        "plt.title('Model performance')\n",
        "plt.show()\n",
        "plt.savefig('KNN_CV_Train_Test' + '.png', dpi=900)"
      ],
      "metadata": {
        "colab": {
          "base_uri": "https://localhost:8080/",
          "height": 318
        },
        "id": "vc4nElt0Uk9l",
        "outputId": "f8431fb9-cf4a-4308-b742-24473ed0e10c"
      },
      "execution_count": 65,
      "outputs": [
        {
          "output_type": "display_data",
          "data": {
            "text/plain": [
              "<Figure size 432x288 with 1 Axes>"
            ],
            "image/png": "[encoded data removed]"
          },
          "metadata": {}
        },
        {
          "output_type": "display_data",
          "data": {
            "text/plain": [
              "<Figure size 432x288 with 0 Axes>"
            ]
          },
          "metadata": {}
        }
      ]
    },
    {
      "cell_type": "code",
      "source": [
        "import operator\n",
        "index, value = max(enumerate(scores_cv), key=operator.itemgetter(1))\n",
        "\n",
        "optimal_model = models[index]\n",
        "print(optimal_model)\n",
        "print(value)"
      ],
      "metadata": {
        "colab": {
          "base_uri": "https://localhost:8080/"
        },
        "id": "0uMgOB8uUy3F",
        "outputId": "51ac47cf-85ab-4bb9-86a7-1284cdf8a0db"
      },
      "execution_count": 66,
      "outputs": [
        {
          "output_type": "stream",
          "name": "stdout",
          "text": [
            "KNeighborsClassifier(algorithm='brute', metric='manhattan', n_neighbors=21)\n",
            "0.703529411764706\n"
          ]
        }
      ]
    },
    {
      "cell_type": "code",
      "source": [
        "# we use the optimal to predic the unseen data\n",
        "optimal_model.fit(X_train, y_train)\n",
        "y_pred = optimal_model.predict(X_test)\n",
        "print('Test Accuracy rate: ', metrics.accuracy_score(y_test, y_pred))\n",
        "print('Confusion matrix:')\n",
        "print(metrics.confusion_matrix(y_test, y_pred))\n",
        "print(metrics.classification_report(y_test, y_pred))"
      ],
      "metadata": {
        "colab": {
          "base_uri": "https://localhost:8080/"
        },
        "id": "QuJeY72BVAFV",
        "outputId": "3f3ce229-f3e5-4613-f086-d4ac40402360"
      },
      "execution_count": 67,
      "outputs": [
        {
          "output_type": "stream",
          "name": "stdout",
          "text": [
            "Test Accuracy rate:  0.627906976744186\n",
            "Confusion matrix:\n",
            "[[ 0 16]\n",
            " [ 0 27]]\n",
            "              precision    recall  f1-score   support\n",
            "\n",
            "           0       0.00      0.00      0.00        16\n",
            "           1       0.63      1.00      0.77        27\n",
            "\n",
            "    accuracy                           0.63        43\n",
            "   macro avg       0.31      0.50      0.39        43\n",
            "weighted avg       0.39      0.63      0.48        43\n",
            "\n"
          ]
        },
        {
          "output_type": "stream",
          "name": "stderr",
          "text": [
            "/usr/local/lib/python3.7/dist-packages/sklearn/metrics/_classification.py:1318: UndefinedMetricWarning: Precision and F-score are ill-defined and being set to 0.0 in labels with no predicted samples. Use `zero_division` parameter to control this behavior.\n",
            "  _warn_prf(average, modifier, msg_start, len(result))\n",
            "/usr/local/lib/python3.7/dist-packages/sklearn/metrics/_classification.py:1318: UndefinedMetricWarning: Precision and F-score are ill-defined and being set to 0.0 in labels with no predicted samples. Use `zero_division` parameter to control this behavior.\n",
            "  _warn_prf(average, modifier, msg_start, len(result))\n",
            "/usr/local/lib/python3.7/dist-packages/sklearn/metrics/_classification.py:1318: UndefinedMetricWarning: Precision and F-score are ill-defined and being set to 0.0 in labels with no predicted samples. Use `zero_division` parameter to control this behavior.\n",
            "  _warn_prf(average, modifier, msg_start, len(result))\n"
          ]
        }
      ]
    },
    {
      "cell_type": "code",
      "source": [
        ""
      ],
      "metadata": {
        "id": "r-RTtAuVVCa-"
      },
      "execution_count": 67,
      "outputs": []
    }
  ]
}