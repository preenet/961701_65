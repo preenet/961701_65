{
  "nbformat": 4,
  "nbformat_minor": 0,
  "metadata": {
    "kernelspec": {
      "display_name": "Python 3",
      "language": "python",
      "name": "python3"
    },
    "language_info": {
      "codemirror_mode": {
        "name": "ipython",
        "version": 3
      },
      "file_extension": ".py",
      "mimetype": "text/x-python",
      "name": "python",
      "nbconvert_exporter": "python",
      "pygments_lexer": "ipython3",
      "version": "3.6.8"
    },
    "colab": {
      "name": "CV demo.ipynb",
      "provenance": [],
      "include_colab_link": true
    }
  },
  "cells": [
    {
      "cell_type": "markdown",
      "metadata": {
        "id": "view-in-github",
        "colab_type": "text"
      },
      "source": [
        "<a href=\"https://colab.research.google.com/github/preenet/961701_65/blob/main/CV_demo.ipynb\" target=\"_parent\"><img src=\"https://colab.research.google.com/assets/colab-badge.svg\" alt=\"Open In Colab\"/></a>"
      ]
    },
    {
      "cell_type": "markdown",
      "metadata": {
        "id": "EZ0BzAtddt8U"
      },
      "source": [
        "Pree T.  \n",
        "\n",
        "Demonstrate model tuning using k-fold cross-validation with python   \n"
      ]
    },
    {
      "cell_type": "code",
      "metadata": {
        "id": "aCcdNRxhdt8W",
        "outputId": "c3709344-65c0-4436-e03c-e470aa8b250d"
      },
      "source": [
        "import pandas as pd\n",
        "from sklearn.model_selection import train_test_split\n",
        "from sklearn.neighbors import KNeighborsClassifier\n",
        "from sklearn.model_selection import cross_val_score\n",
        "import statistics\n",
        "from sklearn import metrics\n",
        "import matplotlib.pyplot as plt"
      ],
      "execution_count": null,
      "outputs": [
        {
          "output_type": "stream",
          "text": [
            "/home/preenet/anaconda3/lib/python3.6/site-packages/sklearn/externals/joblib/_multiprocessing_helpers.py:28: UserWarning: [Errno 13] Permission denied.  joblib will operate in serial mode\n",
            "  warnings.warn('%s.  joblib will operate in serial mode' % (e,))\n"
          ],
          "name": "stderr"
        }
      ]
    },
    {
      "cell_type": "code",
      "metadata": {
        "id": "aMl91JgJdt8X"
      },
      "source": [
        "df = pd.read_csv('iris.csv')"
      ],
      "execution_count": null,
      "outputs": []
    },
    {
      "cell_type": "code",
      "metadata": {
        "id": "L5zHzaBHdt8Y"
      },
      "source": [
        "x_train, x_test, y_train, y_test = train_test_split(df[['sepal_length', 'sepal_width', \n",
        "                                                        'petal_length', 'petal_width']],\n",
        "                                                    df['species'], random_state = 0, train_size = 0.7, test_size = 0.3)"
      ],
      "execution_count": null,
      "outputs": []
    },
    {
      "cell_type": "code",
      "metadata": {
        "id": "i6aGaE8mdt8Y",
        "outputId": "39ac354c-004a-4842-f461-9b15359eb79e"
      },
      "source": [
        "# see the shape of train and test sets\n",
        "print(\"x_train shape: {}\\ny_train shape: {}\".format(x_train.shape, y_train.shape))\n",
        "print(\"x_test shape: {}\\ny_test shape: {}\".format(x_test.shape, y_test.shape))"
      ],
      "execution_count": null,
      "outputs": [
        {
          "output_type": "stream",
          "text": [
            "x_train shape: (105, 4)\n",
            "y_train shape: (105,)\n",
            "x_test shape: (45, 4)\n",
            "y_test shape: (45,)\n"
          ],
          "name": "stdout"
        }
      ]
    },
    {
      "cell_type": "code",
      "metadata": {
        "id": "iS607QyPdt8Y"
      },
      "source": [
        "# initialize the knn architecture, manually pick the k value (worst one)\n",
        "knn = KNeighborsClassifier(n_neighbors=50, metric = 'euclidean')"
      ],
      "execution_count": null,
      "outputs": []
    },
    {
      "cell_type": "code",
      "metadata": {
        "id": "eIF6G8l4dt8Z",
        "outputId": "91c02ef3-aac8-4385-a7de-b3bbf6688cd6"
      },
      "source": [
        "# fit the model to training set and predict classes\n",
        "knn.fit(x_train, y_train)\n",
        "y_pred = knn.predict(x_test)\n",
        "print('Accuracy rate: ', metrics.accuracy_score(y_test, y_pred))\n",
        "print('Confusion matrix:')\n",
        "print(metrics.confusion_matrix(y_test, y_pred))\n",
        "print(metrics.classification_report(y_test, y_pred))"
      ],
      "execution_count": null,
      "outputs": [
        {
          "output_type": "stream",
          "text": [
            "Accuracy rate:  0.9111111111111111\n",
            "Confusion matrix:\n",
            "[[16  0  0]\n",
            " [ 0 16  2]\n",
            " [ 0  2  9]]\n",
            "             precision    recall  f1-score   support\n",
            "\n",
            "     setosa       1.00      1.00      1.00        16\n",
            " versicolor       0.89      0.89      0.89        18\n",
            "  virginica       0.82      0.82      0.82        11\n",
            "\n",
            "avg / total       0.91      0.91      0.91        45\n",
            "\n"
          ],
          "name": "stdout"
        }
      ]
    },
    {
      "cell_type": "markdown",
      "metadata": {
        "id": "NbxrpQfddt8Z"
      },
      "source": [
        "Not very good results, so we are preform model regularization and model assesement using k-fold, k = 10"
      ]
    },
    {
      "cell_type": "code",
      "metadata": {
        "id": "Xhg0nlzQdt8a"
      },
      "source": [
        "# Experimenting with different k values\n",
        "k_range = list(range(1,50))\n",
        "scores_cv = [] # average of k-fold CV\n",
        "scores_train = [] # train acc.\n",
        "scores_test = [] # test acc.\n",
        "models = [] # models\n",
        "\n",
        "for k in k_range:\n",
        "    knn = KNeighborsClassifier(n_neighbors=k, metric='euclidean')\n",
        "    # mean CV\n",
        "    scores = cross_val_score(knn, x_train, y_train, cv=10) # another inner loop here\n",
        "    scores_cv.append(statistics.mean(scores))\n",
        "    knn.fit(x_train, y_train) # trainingng\n",
        "    \n",
        "    y_pred_train = knn.predict(x_train)\n",
        "    scores_train.append( metrics.accuracy_score(y_train, y_pred_train) )\n",
        "    # testing\n",
        "    y_pred_test = knn.predict(x_test)\n",
        "    scores_test.append( metrics.accuracy_score(y_test, y_pred_test) )\n",
        "    models.append(knn)\n",
        "    \n"
      ],
      "execution_count": null,
      "outputs": []
    },
    {
      "cell_type": "code",
      "metadata": {
        "id": "hHbGGLeUdt8b",
        "outputId": "841905b4-c4a9-4daf-9ec5-36ef93b3b6f1"
      },
      "source": [
        "# comparing CV scores, train and test scores\n",
        "\n",
        "plt.plot(k_range, scores_cv, 'y', dashes=[6, 2], label = \"Mean of CV acc.\")\n",
        "plt.plot(k_range, scores_train, 'b', label = \"Train acc.\")\n",
        "plt.plot(k_range, scores_test, 'r', label= \"Test acc.\")\n",
        "plt.legend(bbox_to_anchor=(1.05, 1), loc=2, borderaxespad=0.)\n",
        "plt.xlabel('k value ')\n",
        "plt.ylabel('Accuracy Rate')\n",
        "plt.title('Accuracy Rates of k (K-Nearest-Neighbors) CV-Train-Test')\n",
        "plt.show()\n",
        "plt.savefig('KNN_CV_Train_Test' + '.png', dpi=900)"
      ],
      "execution_count": null,
      "outputs": [
        {
          "output_type": "display_data",
          "data": {
            "image/png": "[encoded data removed]",
            "text/plain": [
              "<Figure size 432x288 with 1 Axes>"
            ]
          },
          "metadata": {
            "tags": []
          }
        },
        {
          "output_type": "display_data",
          "data": {
            "text/plain": [
              "<Figure size 432x288 with 0 Axes>"
            ]
          },
          "metadata": {
            "tags": []
          }
        }
      ]
    },
    {
      "cell_type": "code",
      "metadata": {
        "id": "IHBQqH1pdt8b",
        "outputId": "34076852-ba9b-4c8e-9dd8-a89fbbd09f56"
      },
      "source": [
        "import operator\n",
        "index, value = max(enumerate(scores_cv), key=operator.itemgetter(1))\n",
        "\n",
        "optimal_model = models[index]\n",
        "print(optimal_model)"
      ],
      "execution_count": null,
      "outputs": [
        {
          "output_type": "stream",
          "text": [
            "KNeighborsClassifier(algorithm='auto', leaf_size=30, metric='euclidean',\n",
            "           metric_params=None, n_jobs=1, n_neighbors=6, p=2,\n",
            "           weights='uniform')\n"
          ],
          "name": "stdout"
        }
      ]
    },
    {
      "cell_type": "markdown",
      "metadata": {
        "id": "7KfuX25Rdt8b"
      },
      "source": [
        "Now we have the optimal model, we are going to test with the unseen test data"
      ]
    },
    {
      "cell_type": "code",
      "metadata": {
        "id": "mao-9PKBdt8c",
        "outputId": "214f8cfb-7843-460a-90d7-2a505bb55fbf"
      },
      "source": [
        "optimal_model.fit(x_train, y_train)\n",
        "y_pred = optimal_model.predict(x_test)\n",
        "print('Test Accuracy rate: ', metrics.accuracy_score(y_test, y_pred))\n",
        "print('Confusion matrix:')\n",
        "print(metrics.confusion_matrix(y_test, y_pred))\n",
        "print(metrics.classification_report(y_test, y_pred))"
      ],
      "execution_count": null,
      "outputs": [
        {
          "output_type": "stream",
          "text": [
            "Test Accuracy rate:  0.9777777777777777\n",
            "Confusion matrix:\n",
            "[[16  0  0]\n",
            " [ 0 17  1]\n",
            " [ 0  0 11]]\n",
            "             precision    recall  f1-score   support\n",
            "\n",
            "     setosa       1.00      1.00      1.00        16\n",
            " versicolor       1.00      0.94      0.97        18\n",
            "  virginica       0.92      1.00      0.96        11\n",
            "\n",
            "avg / total       0.98      0.98      0.98        45\n",
            "\n"
          ],
          "name": "stdout"
        }
      ]
    }
  ]
}